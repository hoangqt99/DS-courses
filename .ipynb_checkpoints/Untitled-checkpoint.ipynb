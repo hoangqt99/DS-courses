{
 "cells": [
  {
   "cell_type": "markdown",
   "metadata": {},
   "source": [
    "# Phương pháp Runge-Kutta"
   ]
  },
  {
   "cell_type": "code",
   "execution_count": 10,
   "metadata": {},
   "outputs": [],
   "source": [
    "import math"
   ]
  },
  {
   "cell_type": "code",
   "execution_count": 5,
   "metadata": {},
   "outputs": [
    {
     "name": "stdout",
     "output_type": "stream",
     "text": [
      "k1 =   1 * (0.5*3000 + 0.1*0^2)    = 1500.0\n",
      "****\n",
      "k2 =   1 * (0.5*3750.0 + 0.1*0.5^2)    = 1875.025\n",
      "****\n",
      "k3 =   1 * (0.5*5250.05 + 0.1*1^2)    = 2625.125\n",
      "****\n",
      "y1  = 3000 + 1/6*(1500.0 + 4*1875.025 + 2625.125) = 4937.5375\n",
      "---------------------------------------------------------\n",
      "k1 =   1 * (0.5*4937.5375 + 0.1*1^2)    = 2468.8688\n",
      "****\n",
      "k2 =   1 * (0.5*6171.9719000000005 + 0.1*1.5^2)    = 3086.211\n",
      "****\n",
      "k3 =   1 * (0.5*8641.0907 + 0.1*2^2)    = 4320.9453\n",
      "****\n",
      "y2  = 4937.5375 + 1/6*(2468.8688 + 4*3086.211 + 4320.9453) = 8126.6472\n",
      "---------------------------------------------------------\n",
      "k1 =   1 * (0.5*8126.6472 + 0.1*2^2)    = 4063.7236\n",
      "****\n",
      "k2 =   1 * (0.5*10158.509 + 0.1*2.5^2)    = 5079.8795\n",
      "****\n",
      "k3 =   1 * (0.5*14222.6826 + 0.1*3^2)    = 7112.2413\n",
      "****\n",
      "y3  = 8126.6472 + 1/6*(4063.7236 + 4*5079.8795 + 7112.2413) = 13375.8944\n",
      "---------------------------------------------------------\n",
      "k1 =   1 * (0.5*13375.8944 + 0.1*3^2)    = 6688.8472\n",
      "****\n",
      "k2 =   1 * (0.5*16720.318 + 0.1*3.5^2)    = 8361.384\n",
      "****\n",
      "k3 =   1 * (0.5*23409.815199999997 + 0.1*4^2)    = 11706.5076\n",
      "****\n",
      "y4  = 13375.8944 + 1/6*(6688.8472 + 4*8361.384 + 11706.5076) = 22016.0429\n",
      "---------------------------------------------------------\n"
     ]
    }
   ],
   "source": [
    "def f(x,y):\n",
    "    print(f'{h1} * (0.5*{y} + 0.1*{x}^2)', end = ' ') # chỉnh lại print\n",
    "    return 0.5*y + 0.1*pow(x,2)  # viết lại hàm\n",
    "\n",
    "x_s = [0,1,2,3] # sửa\n",
    "y_s = [3000] # sửa\n",
    "\n",
    "# khong sử\n",
    "h1 = x_s[1] - x_s[0]\n",
    "# khong sua\n",
    "for i in range(len(x_s)): \n",
    "    print('k1 =  ',end= ' ')\n",
    "    k1 = round( h1 * f(x_s[i],y_s[i]) , 4 )\n",
    "    print(f'   = {k1}')\n",
    "    print('****')\n",
    "    print('k2 =  ',end= ' ')\n",
    "    k2 = round( h1*f(x_s[i]+ 1/2*h1 , y_s[i] + 1/2*k1) , 4)\n",
    "    print(f'   = {k2}')\n",
    "    print('****')\n",
    "    print('k3 =  ',end= ' ')\n",
    "    k3 = round (h1*f(x_s[i]+h1,y_s[i]-k1+2*k2), 4)\n",
    "    print(f'   = {k3}')\n",
    "    y = round(y_s[i] + 1/6 * (k1 + 4 * k2 + k3) ,4)\n",
    "    print('****')\n",
    "    print(f'y{i+1}  = {y_s[i]} + 1/6*({k1} + 4*{k2} + {k3}) = {y}')\n",
    "    print('---------------------------------------------------------')\n",
    "    y_s.append(y)"
   ]
  },
  {
   "cell_type": "markdown",
   "metadata": {},
   "source": [
    "# Phương pháp euler cải tiến 2 hàm"
   ]
  },
  {
   "cell_type": "code",
   "execution_count": 6,
   "metadata": {},
   "outputs": [
    {
     "name": "stdout",
     "output_type": "stream",
     "text": [
      "y_not1 = 1485.0\n",
      "z_not1 = 101.6\n",
      "y_1 = 1469.037\n",
      "z_1 = 104.3636\n",
      "-------------------------\n",
      "y_not2 = 1418.5556\n",
      "z_not2 = 131.8955\n",
      "y_2 = 1399.8952\n",
      "z_2 = 134.8612\n",
      "-------------------------\n",
      "y_not3 = 1309.0963\n",
      "z_not3 = 168.5737\n",
      "y_3 = 1289.9745\n",
      "z_3 = 171.2568\n",
      "-------------------------\n"
     ]
    }
   ],
   "source": [
    "def f1(y,z, t= None):\n",
    "    #print(f'{h1} * (0.02*{y} - 0.03*{x})', end = ' ') # chỉnh lại print\n",
    "    return 0.07*y - 0.001*z*y   # viết lại hàm\n",
    "def f2(y,z, t= None):\n",
    "    #print(f'{h1} * (0.02*{y} - 0.03*{x})', end = ' ') # chỉnh lại print\n",
    "    return -0.03*z +0.0002*z*y  # viết lại hàm\n",
    "\n",
    "x_s = [0,1,2] # sửa\n",
    "h1 = x_s[1] - x_s[0]\n",
    "y1 = [1500] # sửa\n",
    "z1 = [80]  # sửa\n",
    "\n",
    "# khong sua\n",
    "for i in range(len(x_s)):\n",
    "    y_1 = round( y1[i] + h1*f1(y1[i], z1[i],i),4)\n",
    "    print(f'y_not{i+1} = {y_1}')\n",
    "    z_1 = round( z1[i] + h1* f2(y1[i], z1[i],i) ,4)\n",
    "    print(f'z_not{i+1} = {z_1}')\n",
    "    y_next = round( y1[i] + h1/2*( f1(y1[i],z1[i],i) + f1(y_1,z_1,i+1) ), 4)\n",
    "    print(f'y_{i+1} = {y_next}')\n",
    "    y1.append(y_next)\n",
    "    z_next = round( z1[i] + h1/2*( f2(y1[i],z1[i],i) + f2(y_1,z_1,i+1) ), 4)\n",
    "    print(f'z_{i+1} = {z_next}')\n",
    "    z1.append(z_next)\n",
    "    print('-------------------------')"
   ]
  },
  {
   "cell_type": "markdown",
   "metadata": {},
   "source": [
    "# Phương pháp euler cải tiến 1 hàm"
   ]
  },
  {
   "cell_type": "code",
   "execution_count": 7,
   "metadata": {},
   "outputs": [
    {
     "name": "stdout",
     "output_type": "stream",
     "text": [
      "y_not1 = 1.1\n",
      "y_1 = 1.11\n",
      "-------------------------\n",
      "y_not2 = 1.231\n",
      "y_2 = 1.2421\n",
      "-------------------------\n",
      "y_not3 = 1.3863\n",
      "y_3 = 1.3985\n",
      "-------------------------\n",
      "y_not4 = 1.5684\n",
      "y_4 = 1.5818\n",
      "-------------------------\n",
      "y_not5 = 1.78\n"
     ]
    },
    {
     "ename": "IndexError",
     "evalue": "list index out of range",
     "output_type": "error",
     "traceback": [
      "\u001b[0;31m---------------------------------------------------------------------------\u001b[0m",
      "\u001b[0;31mIndexError\u001b[0m                                Traceback (most recent call last)",
      "\u001b[0;32m<ipython-input-7-ad0053e373f8>\u001b[0m in \u001b[0;36m<module>\u001b[0;34m\u001b[0m\n\u001b[1;32m     12\u001b[0m     \u001b[0mprint\u001b[0m\u001b[0;34m(\u001b[0m\u001b[0;34mf'y_not{i+1} = {y_1}'\u001b[0m\u001b[0;34m)\u001b[0m\u001b[0;34m\u001b[0m\u001b[0;34m\u001b[0m\u001b[0m\n\u001b[1;32m     13\u001b[0m \u001b[0;34m\u001b[0m\u001b[0m\n\u001b[0;32m---> 14\u001b[0;31m     \u001b[0my_next\u001b[0m \u001b[0;34m=\u001b[0m \u001b[0mround\u001b[0m\u001b[0;34m(\u001b[0m \u001b[0my1\u001b[0m\u001b[0;34m[\u001b[0m\u001b[0mi\u001b[0m\u001b[0;34m]\u001b[0m \u001b[0;34m+\u001b[0m \u001b[0mh1\u001b[0m\u001b[0;34m/\u001b[0m\u001b[0;36m2\u001b[0m\u001b[0;34m*\u001b[0m\u001b[0;34m(\u001b[0m\u001b[0mf\u001b[0m\u001b[0;34m(\u001b[0m\u001b[0mx_s\u001b[0m\u001b[0;34m[\u001b[0m\u001b[0mi\u001b[0m\u001b[0;34m]\u001b[0m\u001b[0;34m,\u001b[0m\u001b[0my1\u001b[0m\u001b[0;34m[\u001b[0m\u001b[0mi\u001b[0m\u001b[0;34m]\u001b[0m\u001b[0;34m)\u001b[0m \u001b[0;34m+\u001b[0m \u001b[0mf\u001b[0m\u001b[0;34m(\u001b[0m\u001b[0mx_s\u001b[0m\u001b[0;34m[\u001b[0m\u001b[0mi\u001b[0m\u001b[0;34m+\u001b[0m\u001b[0;36m1\u001b[0m\u001b[0;34m]\u001b[0m\u001b[0;34m,\u001b[0m\u001b[0my_1\u001b[0m\u001b[0;34m)\u001b[0m\u001b[0;34m)\u001b[0m\u001b[0;34m,\u001b[0m \u001b[0;36m4\u001b[0m\u001b[0;34m)\u001b[0m\u001b[0;34m\u001b[0m\u001b[0;34m\u001b[0m\u001b[0m\n\u001b[0m\u001b[1;32m     15\u001b[0m     \u001b[0mprint\u001b[0m\u001b[0;34m(\u001b[0m\u001b[0;34mf'y_{i+1} = {y_next}'\u001b[0m\u001b[0;34m)\u001b[0m\u001b[0;34m\u001b[0m\u001b[0;34m\u001b[0m\u001b[0m\n\u001b[1;32m     16\u001b[0m     \u001b[0my1\u001b[0m\u001b[0;34m.\u001b[0m\u001b[0mappend\u001b[0m\u001b[0;34m(\u001b[0m\u001b[0my_next\u001b[0m\u001b[0;34m)\u001b[0m\u001b[0;34m\u001b[0m\u001b[0;34m\u001b[0m\u001b[0m\n",
      "\u001b[0;31mIndexError\u001b[0m: list index out of range"
     ]
    }
   ],
   "source": [
    "def f(x,y):\n",
    "    #print(f'{h1} * (0.02*{y} - 0.03*{x})', end = ' ') # chỉnh lại print\n",
    "    return x+y  # viết lại hàm\n",
    "\n",
    "x_s = [0,0.1,0.2,0.3,0.4] # sửa\n",
    "h1 = x_s[1] - x_s[0]\n",
    "y1 = [1]\n",
    "\n",
    "# khong sua\n",
    "for i in range(len(x_s)):\n",
    "    y_1 = round( y1[i] + h1*f(x_s[i],y1[i]),4)\n",
    "    print(f'y_not{i+1} = {y_1}')\n",
    "    \n",
    "    y_next = round( y1[i] + h1/2*(f(x_s[i],y1[i]) + f(x_s[i+1],y_1)), 4)\n",
    "    print(f'y_{i+1} = {y_next}')\n",
    "    y1.append(y_next)\n",
    "   \n",
    "    print('-------------------------')"
   ]
  },
  {
   "cell_type": "markdown",
   "metadata": {},
   "source": [
    "# Hệ Phương trình vi phân euler cải tiến"
   ]
  },
  {
   "cell_type": "code",
   "execution_count": 33,
   "metadata": {},
   "outputs": [],
   "source": [
    "def f_u(x=None,u=None,v=None):\n",
    "    return 1+v\n",
    "def f_v(x=None,u=None,v=None):\n",
    "    return -u+x"
   ]
  },
  {
   "cell_type": "code",
   "execution_count": 38,
   "metadata": {},
   "outputs": [
    {
     "name": "stdout",
     "output_type": "stream",
     "text": [
      "u_not1 = 0.5\n",
      "v_not1 = 1.0\n",
      "u1 = 0.5\n",
      "v1 = 0.9688\n",
      "-----------------------------------------------\n",
      "u_not2 = 0.9922\n",
      "v_not2 = 0.9063\n",
      "u2 = 0.9844\n",
      "v2 = 0.876\n",
      "-----------------------------------------------\n",
      "u_not3 = 1.4534\n",
      "v_not3 = 0.7549\n",
      "u3 = 1.4383\n",
      "v3 = 0.7275\n",
      "-----------------------------------------------\n",
      "u_not4 = 1.8702\n",
      "v_not4 = 0.5554\n",
      "u4 = 1.8487\n",
      "v4 = 0.5327\n",
      "-----------------------------------------------\n",
      "u_not5 = 2.2319\n",
      "v_not5 = 0.3205\n"
     ]
    },
    {
     "ename": "IndexError",
     "evalue": "list index out of range",
     "output_type": "error",
     "traceback": [
      "\u001b[0;31m---------------------------------------------------------------------------\u001b[0m",
      "\u001b[0;31mIndexError\u001b[0m                                Traceback (most recent call last)",
      "\u001b[0;32m<ipython-input-38-8a1fb7397501>\u001b[0m in \u001b[0;36m<module>\u001b[0;34m\u001b[0m\n\u001b[1;32m      8\u001b[0m     \u001b[0mv_notk\u001b[0m \u001b[0;34m=\u001b[0m \u001b[0mround\u001b[0m\u001b[0;34m(\u001b[0m \u001b[0mv_xs\u001b[0m\u001b[0;34m[\u001b[0m\u001b[0mi\u001b[0m\u001b[0;34m]\u001b[0m \u001b[0;34m+\u001b[0m \u001b[0mf_v\u001b[0m\u001b[0;34m(\u001b[0m\u001b[0mx_xs\u001b[0m\u001b[0;34m[\u001b[0m\u001b[0mi\u001b[0m\u001b[0;34m]\u001b[0m\u001b[0;34m,\u001b[0m\u001b[0mu_xs\u001b[0m\u001b[0;34m[\u001b[0m\u001b[0mi\u001b[0m\u001b[0;34m]\u001b[0m\u001b[0;34m,\u001b[0m\u001b[0mv_xs\u001b[0m\u001b[0;34m[\u001b[0m\u001b[0mi\u001b[0m\u001b[0;34m]\u001b[0m\u001b[0;34m)\u001b[0m \u001b[0;34m*\u001b[0m \u001b[0mh\u001b[0m\u001b[0;34m,\u001b[0m \u001b[0;36m4\u001b[0m\u001b[0;34m)\u001b[0m\u001b[0;34m\u001b[0m\u001b[0;34m\u001b[0m\u001b[0m\n\u001b[1;32m      9\u001b[0m     \u001b[0mprint\u001b[0m\u001b[0;34m(\u001b[0m\u001b[0;34mf'v_not{i+1} = {v_notk}'\u001b[0m\u001b[0;34m)\u001b[0m\u001b[0;34m\u001b[0m\u001b[0;34m\u001b[0m\u001b[0m\n\u001b[0;32m---> 10\u001b[0;31m     \u001b[0mu_k\u001b[0m \u001b[0;34m=\u001b[0m \u001b[0mround\u001b[0m\u001b[0;34m(\u001b[0m \u001b[0mu_xs\u001b[0m\u001b[0;34m[\u001b[0m\u001b[0mi\u001b[0m\u001b[0;34m]\u001b[0m\u001b[0;34m+\u001b[0m \u001b[0;34m(\u001b[0m \u001b[0mf_u\u001b[0m\u001b[0;34m(\u001b[0m\u001b[0mx_xs\u001b[0m\u001b[0;34m[\u001b[0m\u001b[0mi\u001b[0m\u001b[0;34m]\u001b[0m\u001b[0;34m,\u001b[0m\u001b[0mu_xs\u001b[0m\u001b[0;34m[\u001b[0m\u001b[0mi\u001b[0m\u001b[0;34m]\u001b[0m\u001b[0;34m,\u001b[0m\u001b[0mv_xs\u001b[0m\u001b[0;34m[\u001b[0m\u001b[0mi\u001b[0m\u001b[0;34m]\u001b[0m\u001b[0;34m)\u001b[0m \u001b[0;34m+\u001b[0m \u001b[0mf_u\u001b[0m\u001b[0;34m(\u001b[0m\u001b[0mx_xs\u001b[0m\u001b[0;34m[\u001b[0m\u001b[0mi\u001b[0m\u001b[0;34m+\u001b[0m\u001b[0;36m1\u001b[0m\u001b[0;34m]\u001b[0m\u001b[0;34m,\u001b[0m\u001b[0mu_notk\u001b[0m\u001b[0;34m,\u001b[0m\u001b[0mv_notk\u001b[0m\u001b[0;34m)\u001b[0m \u001b[0;34m)\u001b[0m\u001b[0;34m*\u001b[0m\u001b[0mh\u001b[0m\u001b[0;34m/\u001b[0m\u001b[0;36m2\u001b[0m\u001b[0;34m,\u001b[0m \u001b[0;36m4\u001b[0m\u001b[0;34m)\u001b[0m\u001b[0;34m\u001b[0m\u001b[0;34m\u001b[0m\u001b[0m\n\u001b[0m\u001b[1;32m     11\u001b[0m     \u001b[0mprint\u001b[0m\u001b[0;34m(\u001b[0m\u001b[0;34mf'u{i+1} = {u_k}'\u001b[0m\u001b[0;34m)\u001b[0m\u001b[0;34m\u001b[0m\u001b[0;34m\u001b[0m\u001b[0m\n\u001b[1;32m     12\u001b[0m     \u001b[0mu_xs\u001b[0m\u001b[0;34m.\u001b[0m\u001b[0mappend\u001b[0m\u001b[0;34m(\u001b[0m\u001b[0mu_k\u001b[0m\u001b[0;34m)\u001b[0m\u001b[0;34m\u001b[0m\u001b[0;34m\u001b[0m\u001b[0m\n",
      "\u001b[0;31mIndexError\u001b[0m: list index out of range"
     ]
    }
   ],
   "source": [
    "u_xs = [0]\n",
    "v_xs = [1]\n",
    "x_xs = [0, 0.25,0.5,0.75,1]\n",
    "h = x_xs[1] - x_xs[0]\n",
    "for i in range(len(x_xs)):\n",
    "    u_notk = round(u_xs[i] + f_u(x_xs[i],u_xs[i],v_xs[i]) * h, 4)\n",
    "    print(f'u_not{i+1} = {u_notk}')\n",
    "    v_notk = round( v_xs[i] + f_v(x_xs[i],u_xs[i],v_xs[i]) * h, 4)\n",
    "    print(f'v_not{i+1} = {v_notk}')\n",
    "    u_k = round( u_xs[i]+ ( f_u(x_xs[i],u_xs[i],v_xs[i]) + f_u(x_xs[i+1],u_notk,v_notk) )*h/2, 4)\n",
    "    print(f'u{i+1} = {u_k}')\n",
    "    u_xs.append(u_k)\n",
    "    v_k = round( v_xs[i]+ ( f_v(x_xs[i],u_xs[i],v_xs[i]) + f_v(x_xs[i+1],u_notk,v_notk) )*h/2, 4)\n",
    "    print(f'v{i+1} = {v_k}')\n",
    "    v_xs.append(v_k)\n",
    "    print('-----------------------------------------------')"
   ]
  },
  {
   "cell_type": "markdown",
   "metadata": {},
   "source": [
    "# Hệ phương trình vi phân hàm bậc 2"
   ]
  },
  {
   "cell_type": "code",
   "execution_count": 41,
   "metadata": {},
   "outputs": [],
   "source": []
  },
  {
   "cell_type": "code",
   "execution_count": 45,
   "metadata": {},
   "outputs": [
    {
     "name": "stdout",
     "output_type": "stream",
     "text": [
      "u_not1 = 0\n",
      "v_not1 = 3.0\n",
      "-----------------------------------------\n",
      "u_not2 = 3.0\n",
      "v_not2 = 5.88\n",
      "-----------------------------------------\n",
      "u_not3 = 8.88\n",
      "v_not3 = 8.6448\n",
      "-----------------------------------------\n",
      "u_not4 = 17.5248\n",
      "v_not4 = 11.299\n",
      "-----------------------------------------\n"
     ]
    }
   ],
   "source": [
    "def f_u(x=None,u=None,v=None):\n",
    "    return v                #sửa\n",
    "def f_v(x=None,u=None,v=None): \n",
    "    return 3 - 0.04*v      #sửa\n",
    "\n",
    "u_xs = [0] #sửa\n",
    "v_xs = [0] #sửa\n",
    "x_xs = [0, 1,2,3] #sửa\n",
    "\n",
    "#không sửa\n",
    "h = x_xs[1] - x_xs[0]\n",
    "for i in range(len(x_xs)):\n",
    "    u_k = round(u_xs[i] + f_u(x_xs[i],u_xs[i],v_xs[i]) * h, 4)\n",
    "    print(f'u_not{i+1} = {u_k}')\n",
    "    u_xs.append(u_k)\n",
    "    v_k = round( v_xs[i] + f_v(x_xs[i],u_xs[i],v_xs[i]) * h, 4)\n",
    "    print(f'v_not{i+1} = {v_k}')\n",
    "    v_xs.append(v_k)\n",
    "    print('-----------------------------------------')"
   ]
  },
  {
   "cell_type": "code",
   "execution_count": null,
   "metadata": {},
   "outputs": [],
   "source": []
  }
 ],
 "metadata": {
  "kernelspec": {
   "display_name": "Python 3",
   "language": "python",
   "name": "python3"
  },
  "language_info": {
   "codemirror_mode": {
    "name": "ipython",
    "version": 3
   },
   "file_extension": ".py",
   "mimetype": "text/x-python",
   "name": "python",
   "nbconvert_exporter": "python",
   "pygments_lexer": "ipython3",
   "version": "3.8.3"
  }
 },
 "nbformat": 4,
 "nbformat_minor": 4
}
