{
 "cells": [
  {
   "cell_type": "markdown",
   "metadata": {},
   "source": [
    "---\n",
    "\n",
    "_You are currently looking at **version 1.2** of this notebook. To download notebooks and datafiles, as well as get help on Jupyter notebooks in the Coursera platform, visit the [Jupyter Notebook FAQ](https://www.coursera.org/learn/python-machine-learning/resources/bANLa) course resource._\n",
    "\n",
    "---"
   ]
  },
  {
   "cell_type": "markdown",
   "metadata": {},
   "source": [
    "# Assignment 3 - Evaluation\n",
    "\n",
    "In this assignment you will train several models and evaluate how effectively they predict instances of fraud using data based on [this dataset from Kaggle](https://www.kaggle.com/dalpozz/creditcardfraud).\n",
    " \n",
    "Each row in `fraud_data.csv` corresponds to a credit card transaction. Features include confidential variables `V1` through `V28` as well as `Amount` which is the amount of the transaction. \n",
    " \n",
    "The target is stored in the `class` column, where a value of 1 corresponds to an instance of fraud and 0 corresponds to an instance of not fraud."
   ]
  },
  {
   "cell_type": "code",
   "execution_count": 1,
   "metadata": {},
   "outputs": [],
   "source": [
    "from IPython.core.interactiveshell import InteractiveShell\n",
    "InteractiveShell.ast_node_interactivity = \"all\""
   ]
  },
  {
   "cell_type": "code",
   "execution_count": 2,
   "metadata": {},
   "outputs": [],
   "source": [
    "import numpy as np\n",
    "import pandas as pd"
   ]
  },
  {
   "cell_type": "markdown",
   "metadata": {},
   "source": [
    "### Question 1\n",
    "Import the data from `fraud_data.csv`. What percentage of the observations in the dataset are instances of fraud?\n",
    "\n",
    "*This function should return a float between 0 and 1.* "
   ]
  },
  {
   "cell_type": "code",
   "execution_count": 3,
   "metadata": {
    "scrolled": false
   },
   "outputs": [
    {
     "data": {
      "text/html": [
       "<div>\n",
       "<style scoped>\n",
       "    .dataframe tbody tr th:only-of-type {\n",
       "        vertical-align: middle;\n",
       "    }\n",
       "\n",
       "    .dataframe tbody tr th {\n",
       "        vertical-align: top;\n",
       "    }\n",
       "\n",
       "    .dataframe thead th {\n",
       "        text-align: right;\n",
       "    }\n",
       "</style>\n",
       "<table border=\"1\" class=\"dataframe\">\n",
       "  <thead>\n",
       "    <tr style=\"text-align: right;\">\n",
       "      <th></th>\n",
       "      <th>V1</th>\n",
       "      <th>V2</th>\n",
       "      <th>V3</th>\n",
       "      <th>V4</th>\n",
       "      <th>V5</th>\n",
       "      <th>V6</th>\n",
       "      <th>V7</th>\n",
       "      <th>V8</th>\n",
       "      <th>V9</th>\n",
       "      <th>V10</th>\n",
       "      <th>...</th>\n",
       "      <th>V21</th>\n",
       "      <th>V22</th>\n",
       "      <th>V23</th>\n",
       "      <th>V24</th>\n",
       "      <th>V25</th>\n",
       "      <th>V26</th>\n",
       "      <th>V27</th>\n",
       "      <th>V28</th>\n",
       "      <th>Amount</th>\n",
       "      <th>Class</th>\n",
       "    </tr>\n",
       "  </thead>\n",
       "  <tbody>\n",
       "    <tr>\n",
       "      <th>0</th>\n",
       "      <td>1.176563</td>\n",
       "      <td>0.323798</td>\n",
       "      <td>0.536927</td>\n",
       "      <td>1.047002</td>\n",
       "      <td>-0.368652</td>\n",
       "      <td>-0.728586</td>\n",
       "      <td>0.084678</td>\n",
       "      <td>-0.069246</td>\n",
       "      <td>-0.266389</td>\n",
       "      <td>0.155315</td>\n",
       "      <td>...</td>\n",
       "      <td>-0.109627</td>\n",
       "      <td>-0.341365</td>\n",
       "      <td>0.057845</td>\n",
       "      <td>0.499180</td>\n",
       "      <td>0.415211</td>\n",
       "      <td>-0.581949</td>\n",
       "      <td>0.015472</td>\n",
       "      <td>0.018065</td>\n",
       "      <td>4.67</td>\n",
       "      <td>0</td>\n",
       "    </tr>\n",
       "    <tr>\n",
       "      <th>1</th>\n",
       "      <td>0.681109</td>\n",
       "      <td>-3.934776</td>\n",
       "      <td>-3.801827</td>\n",
       "      <td>-1.147468</td>\n",
       "      <td>-0.735540</td>\n",
       "      <td>-0.501097</td>\n",
       "      <td>1.038865</td>\n",
       "      <td>-0.626979</td>\n",
       "      <td>-2.274423</td>\n",
       "      <td>1.527782</td>\n",
       "      <td>...</td>\n",
       "      <td>0.652202</td>\n",
       "      <td>0.272684</td>\n",
       "      <td>-0.982151</td>\n",
       "      <td>0.165900</td>\n",
       "      <td>0.360251</td>\n",
       "      <td>0.195321</td>\n",
       "      <td>-0.256273</td>\n",
       "      <td>0.056501</td>\n",
       "      <td>912.00</td>\n",
       "      <td>0</td>\n",
       "    </tr>\n",
       "    <tr>\n",
       "      <th>2</th>\n",
       "      <td>1.140729</td>\n",
       "      <td>0.453484</td>\n",
       "      <td>0.247010</td>\n",
       "      <td>2.383132</td>\n",
       "      <td>0.343287</td>\n",
       "      <td>0.432804</td>\n",
       "      <td>0.093380</td>\n",
       "      <td>0.173310</td>\n",
       "      <td>-0.808999</td>\n",
       "      <td>0.775436</td>\n",
       "      <td>...</td>\n",
       "      <td>-0.003802</td>\n",
       "      <td>0.058556</td>\n",
       "      <td>-0.121177</td>\n",
       "      <td>-0.304215</td>\n",
       "      <td>0.645893</td>\n",
       "      <td>0.122600</td>\n",
       "      <td>-0.012115</td>\n",
       "      <td>-0.005945</td>\n",
       "      <td>1.00</td>\n",
       "      <td>0</td>\n",
       "    </tr>\n",
       "    <tr>\n",
       "      <th>3</th>\n",
       "      <td>-1.107073</td>\n",
       "      <td>-3.298902</td>\n",
       "      <td>-0.184092</td>\n",
       "      <td>-1.795744</td>\n",
       "      <td>2.137564</td>\n",
       "      <td>-1.684992</td>\n",
       "      <td>-2.015606</td>\n",
       "      <td>-0.007181</td>\n",
       "      <td>-0.165760</td>\n",
       "      <td>0.869659</td>\n",
       "      <td>...</td>\n",
       "      <td>0.130648</td>\n",
       "      <td>0.329445</td>\n",
       "      <td>0.927656</td>\n",
       "      <td>-0.049560</td>\n",
       "      <td>-1.892866</td>\n",
       "      <td>-0.575431</td>\n",
       "      <td>0.266573</td>\n",
       "      <td>0.414184</td>\n",
       "      <td>62.10</td>\n",
       "      <td>0</td>\n",
       "    </tr>\n",
       "    <tr>\n",
       "      <th>4</th>\n",
       "      <td>-0.314818</td>\n",
       "      <td>0.866839</td>\n",
       "      <td>-0.124577</td>\n",
       "      <td>-0.627638</td>\n",
       "      <td>2.651762</td>\n",
       "      <td>3.428128</td>\n",
       "      <td>0.194637</td>\n",
       "      <td>0.670674</td>\n",
       "      <td>-0.442658</td>\n",
       "      <td>0.133499</td>\n",
       "      <td>...</td>\n",
       "      <td>-0.312774</td>\n",
       "      <td>-0.799494</td>\n",
       "      <td>-0.064488</td>\n",
       "      <td>0.953062</td>\n",
       "      <td>-0.429550</td>\n",
       "      <td>0.158225</td>\n",
       "      <td>0.076943</td>\n",
       "      <td>-0.015051</td>\n",
       "      <td>2.67</td>\n",
       "      <td>0</td>\n",
       "    </tr>\n",
       "  </tbody>\n",
       "</table>\n",
       "<p>5 rows × 30 columns</p>\n",
       "</div>"
      ],
      "text/plain": [
       "         V1        V2        V3        V4        V5        V6        V7  \\\n",
       "0  1.176563  0.323798  0.536927  1.047002 -0.368652 -0.728586  0.084678   \n",
       "1  0.681109 -3.934776 -3.801827 -1.147468 -0.735540 -0.501097  1.038865   \n",
       "2  1.140729  0.453484  0.247010  2.383132  0.343287  0.432804  0.093380   \n",
       "3 -1.107073 -3.298902 -0.184092 -1.795744  2.137564 -1.684992 -2.015606   \n",
       "4 -0.314818  0.866839 -0.124577 -0.627638  2.651762  3.428128  0.194637   \n",
       "\n",
       "         V8        V9       V10  ...       V21       V22       V23       V24  \\\n",
       "0 -0.069246 -0.266389  0.155315  ... -0.109627 -0.341365  0.057845  0.499180   \n",
       "1 -0.626979 -2.274423  1.527782  ...  0.652202  0.272684 -0.982151  0.165900   \n",
       "2  0.173310 -0.808999  0.775436  ... -0.003802  0.058556 -0.121177 -0.304215   \n",
       "3 -0.007181 -0.165760  0.869659  ...  0.130648  0.329445  0.927656 -0.049560   \n",
       "4  0.670674 -0.442658  0.133499  ... -0.312774 -0.799494 -0.064488  0.953062   \n",
       "\n",
       "        V25       V26       V27       V28  Amount  Class  \n",
       "0  0.415211 -0.581949  0.015472  0.018065    4.67      0  \n",
       "1  0.360251  0.195321 -0.256273  0.056501  912.00      0  \n",
       "2  0.645893  0.122600 -0.012115 -0.005945    1.00      0  \n",
       "3 -1.892866 -0.575431  0.266573  0.414184   62.10      0  \n",
       "4 -0.429550  0.158225  0.076943 -0.015051    2.67      0  \n",
       "\n",
       "[5 rows x 30 columns]"
      ]
     },
     "execution_count": 3,
     "metadata": {},
     "output_type": "execute_result"
    }
   ],
   "source": [
    "data_df = pd.read_csv('Data/fraud_data.csv')\n",
    "data_df.head()"
   ]
  },
  {
   "cell_type": "code",
   "execution_count": 4,
   "metadata": {},
   "outputs": [
    {
     "data": {
      "text/plain": [
       "Index(['V1', 'V2', 'V3', 'V4', 'V5', 'V6', 'V7', 'V8', 'V9', 'V10', 'V11',\n",
       "       'V12', 'V13', 'V14', 'V15', 'V16', 'V17', 'V18', 'V19', 'V20', 'V21',\n",
       "       'V22', 'V23', 'V24', 'V25', 'V26', 'V27', 'V28', 'Amount', 'Class'],\n",
       "      dtype='object')"
      ]
     },
     "execution_count": 4,
     "metadata": {},
     "output_type": "execute_result"
    }
   ],
   "source": [
    "data_df.columns"
   ]
  },
  {
   "cell_type": "code",
   "execution_count": 5,
   "metadata": {},
   "outputs": [
    {
     "data": {
      "text/plain": [
       "0.016410823768035772"
      ]
     },
     "execution_count": 5,
     "metadata": {},
     "output_type": "execute_result"
    }
   ],
   "source": [
    "df = data_df.copy()\n",
    "seg = df.iloc[:,-1]\n",
    "float(seg[seg.values==1].count()/seg.count())"
   ]
  },
  {
   "cell_type": "code",
   "execution_count": 6,
   "metadata": {},
   "outputs": [
    {
     "data": {
      "text/plain": [
       "0.016410823768035772"
      ]
     },
     "execution_count": 6,
     "metadata": {},
     "output_type": "execute_result"
    }
   ],
   "source": [
    "data_df['Class'].value_counts(normalize = True)[1]"
   ]
  },
  {
   "cell_type": "code",
   "execution_count": 7,
   "metadata": {},
   "outputs": [],
   "source": [
    "def answer_one():\n",
    "    \n",
    "    # Your code here\n",
    "    data_df = pd.read_csv('Data/fraud_data.csv')\n",
    "    percentage_fraud = data_df['Class'].value_counts(normalize = True)[1]\n",
    "    return percentage_fraud\n"
   ]
  },
  {
   "cell_type": "code",
   "execution_count": 8,
   "metadata": {},
   "outputs": [],
   "source": [
    "# Use X_train, X_test, y_train, y_test for all of the following questions\n",
    "from sklearn.model_selection import train_test_split\n",
    "\n",
    "df = pd.read_csv('Data/fraud_data.csv')\n",
    "\n",
    "X = df.iloc[:,:-1]\n",
    "y = df.iloc[:,-1]\n",
    "\n",
    "X_train, X_test, y_train, y_test = train_test_split(X, y, random_state=0)"
   ]
  },
  {
   "cell_type": "code",
   "execution_count": 9,
   "metadata": {},
   "outputs": [
    {
     "data": {
      "text/plain": [
       "((16269, 29), (16269,))"
      ]
     },
     "execution_count": 9,
     "metadata": {},
     "output_type": "execute_result"
    }
   ],
   "source": [
    "X_train.shape, y_train.shape"
   ]
  },
  {
   "cell_type": "markdown",
   "metadata": {},
   "source": [
    "### Question 2\n",
    "\n",
    "Using `X_train`, `X_test`, `y_train`, and `y_test` (as defined above), train a dummy classifier that classifies everything as the majority class of the training data. What is the accuracy of this classifier? What is the recall?\n",
    "\n",
    "*This function should a return a tuple with two floats, i.e. `(accuracy score, recall score)`.*"
   ]
  },
  {
   "cell_type": "code",
   "execution_count": 10,
   "metadata": {},
   "outputs": [
    {
     "data": {
      "text/plain": [
       "DummyClassifier(strategy='most_frequent')"
      ]
     },
     "execution_count": 10,
     "metadata": {},
     "output_type": "execute_result"
    },
    {
     "data": {
      "text/plain": [
       "0.9830352203577356"
      ]
     },
     "execution_count": 10,
     "metadata": {},
     "output_type": "execute_result"
    },
    {
     "data": {
      "text/plain": [
       "0.0"
      ]
     },
     "execution_count": 10,
     "metadata": {},
     "output_type": "execute_result"
    }
   ],
   "source": [
    "from sklearn.dummy import DummyClassifier\n",
    "from sklearn.metrics import recall_score\n",
    "dummy_clf = DummyClassifier(strategy=\"most_frequent\")\n",
    "dummy_clf.fit(X_train,y_train)\n",
    "y_preds = dummy_clf.predict(X_test)\n",
    "# xuat du doan\n",
    "dummy_clf.score(X_train,y_train)\n",
    "recall_score(y_test,y_preds)"
   ]
  },
  {
   "cell_type": "code",
   "execution_count": 11,
   "metadata": {},
   "outputs": [
    {
     "data": {
      "text/plain": [
       "(0.9830352203577356, 0.0)"
      ]
     },
     "execution_count": 11,
     "metadata": {},
     "output_type": "execute_result"
    }
   ],
   "source": [
    "def answer_two():\n",
    "    \n",
    "    \n",
    "    # Your code here\n",
    "    dummy_clf = DummyClassifier(strategy=\"most_frequent\")\n",
    "    dummy_clf.fit(X_train,y_train)\n",
    "    y_preds = dummy_clf.predict(X_test)\n",
    "    # xuat du doan\n",
    "    accuracy = dummy_clf.score(X_train,y_train)\n",
    "    recall = recall_score(y_test,y_preds)\n",
    "    return (accuracy, recall)\n",
    "answer_two()"
   ]
  },
  {
   "cell_type": "markdown",
   "metadata": {},
   "source": [
    "### Question 3\n",
    "\n",
    "Using X_train, X_test, y_train, y_test (as defined above), train a SVC classifer using the default parameters. What is the accuracy, recall, and precision of this classifier?\n",
    "\n",
    "*This function should a return a tuple with three floats, i.e. `(accuracy score, recall score, precision score)`.*"
   ]
  },
  {
   "cell_type": "code",
   "execution_count": 12,
   "metadata": {},
   "outputs": [
    {
     "data": {
      "text/plain": [
       "SVC()"
      ]
     },
     "execution_count": 12,
     "metadata": {},
     "output_type": "execute_result"
    },
    {
     "data": {
      "text/plain": [
       "array([0, 0, 0, ..., 0, 0, 0])"
      ]
     },
     "execution_count": 12,
     "metadata": {},
     "output_type": "execute_result"
    }
   ],
   "source": [
    "from sklearn.metrics import recall_score, precision_score\n",
    "from sklearn.svm import SVC\n",
    "svm_clf = SVC(kernel='rbf')\n",
    "svm_clf.fit(X_train,y_train)\n",
    "y_preds = svm_clf.predict(X_test)\n",
    "y_preds"
   ]
  },
  {
   "cell_type": "code",
   "execution_count": 13,
   "metadata": {},
   "outputs": [
    {
     "data": {
      "text/plain": [
       "(0.9897965455774786, 0.35, 0.9333333333333333)"
      ]
     },
     "execution_count": 13,
     "metadata": {},
     "output_type": "execute_result"
    }
   ],
   "source": [
    "accuracy = svm_clf.score(X_train,y_train)\n",
    "recall = recall_score(y_true = y_test, y_pred = y_preds)\n",
    "precision = precision_score(y_true = y_test, y_pred = y_preds)\n",
    "accuracy,recall,precision"
   ]
  },
  {
   "cell_type": "code",
   "execution_count": 14,
   "metadata": {},
   "outputs": [
    {
     "data": {
      "text/plain": [
       "(0.9897965455774786, 0.35, 0.9333333333333333)"
      ]
     },
     "execution_count": 14,
     "metadata": {},
     "output_type": "execute_result"
    }
   ],
   "source": [
    "def answer_three():\n",
    "    from sklearn.metrics import recall_score, precision_score\n",
    "    from sklearn.svm import SVC\n",
    "\n",
    "    # Your code here\n",
    "    svm_clf = SVC()\n",
    "    svm_clf.fit(X_train,y_train)\n",
    "    y_preds = svm_clf.predict(X_test)\n",
    "    accuracy = svm_clf.score(X_train,y_train)\n",
    "    recall = recall_score(y_true = y_test, y_pred = y_preds)\n",
    "    precision = precision_score(y_true = y_test, y_pred = y_preds)\n",
    "    return (accuracy,recall,precision)\n",
    "answer_three()"
   ]
  },
  {
   "cell_type": "markdown",
   "metadata": {},
   "source": [
    "### Question 4\n",
    "\n",
    "Using the SVC classifier with parameters `{'C': 1e9, 'gamma': 1e-07}`, what is the confusion matrix when using a threshold of -220 on the decision function. Use X_test and y_test.\n",
    "\n",
    "*This function should return a confusion matrix, a 2x2 numpy array with 4 integers.*"
   ]
  },
  {
   "cell_type": "code",
   "execution_count": 15,
   "metadata": {
    "scrolled": true
   },
   "outputs": [],
   "source": [
    "from sklearn.metrics import confusion_matrix\n",
    "svm_clf = SVC(C = 1e9, gamma =1e-07).fit(X_train,y_train)\n",
    "y_test_preds = svm_clf.decision_function(X_test)"
   ]
  },
  {
   "cell_type": "code",
   "execution_count": 16,
   "metadata": {},
   "outputs": [
    {
     "data": {
      "text/plain": [
       "array([[5320,   24],\n",
       "       [  14,   66]])"
      ]
     },
     "execution_count": 16,
     "metadata": {},
     "output_type": "execute_result"
    }
   ],
   "source": [
    "y_preds = y_test_preds > -220\n",
    "confusion_matrix(y_test,y_preds)"
   ]
  },
  {
   "cell_type": "code",
   "execution_count": 17,
   "metadata": {
    "scrolled": true
   },
   "outputs": [
    {
     "data": {
      "text/plain": [
       "array([[5320,   24],\n",
       "       [  14,   66]])"
      ]
     },
     "execution_count": 17,
     "metadata": {},
     "output_type": "execute_result"
    }
   ],
   "source": [
    "def answer_four():\n",
    "    from sklearn.metrics import confusion_matrix\n",
    "    from sklearn.svm import SVC\n",
    "\n",
    "    # Your code here\n",
    "    svm_clf = SVC(C = 1e9, gamma =1e-07).fit(X_train,y_train)\n",
    "    y_test_preds = svm_clf.decision_function(X_test)\n",
    "    y_preds = y_test_preds > -220\n",
    "    return confusion_matrix(y_test,y_preds)\n",
    "answer_four()"
   ]
  },
  {
   "cell_type": "markdown",
   "metadata": {},
   "source": [
    "### Question 5\n",
    "Train a logisitic regression classifier with default parameters using X_train and y_train.\n",
    "\n",
    "For the logisitic regression classifier, create a precision recall curve and a roc curve using y_test and the probability estimates for X_test (probability it is fraud).\n",
    "\n",
    "Looking at the precision recall curve, what is the recall when the precision is 0.75?\n",
    "\n",
    "Looking at the roc curve, what is the true positive rate when the false positive rate is 0.16?"
   ]
  },
  {
   "cell_type": "code",
   "execution_count": 18,
   "metadata": {
    "scrolled": true
   },
   "outputs": [
    {
     "name": "stderr",
     "output_type": "stream",
     "text": [
      "/home/chibao/anaconda3/lib/python3.8/site-packages/sklearn/linear_model/_logistic.py:762: ConvergenceWarning: lbfgs failed to converge (status=1):\n",
      "STOP: TOTAL NO. of ITERATIONS REACHED LIMIT.\n",
      "\n",
      "Increase the number of iterations (max_iter) or scale the data as shown in:\n",
      "    https://scikit-learn.org/stable/modules/preprocessing.html\n",
      "Please also refer to the documentation for alternative solver options:\n",
      "    https://scikit-learn.org/stable/modules/linear_model.html#logistic-regression\n",
      "  n_iter_i = _check_optimize_result(\n"
     ]
    },
    {
     "data": {
      "text/plain": [
       "array([-6.38279047, -7.13806197, -5.33965699, ..., -6.29442931,\n",
       "       -8.45944749, -6.54810145])"
      ]
     },
     "execution_count": 18,
     "metadata": {},
     "output_type": "execute_result"
    }
   ],
   "source": [
    "from sklearn.linear_model import LogisticRegression\n",
    "from sklearn.metrics import precision_recall_curve, roc_curve\n",
    "logistic_clf = LogisticRegression().fit(X_train,y_train)\n",
    "y_preds = logistic_clf.decision_function(X_test)\n",
    "y_preds"
   ]
  },
  {
   "cell_type": "code",
   "execution_count": 31,
   "metadata": {},
   "outputs": [
    {
     "data": {
      "text/plain": [
       "(array([0.0147656 , 0.01458372, 0.01458641, ..., 1.        , 1.        ,\n",
       "        1.        ]),\n",
       " array([1.    , 0.9875, 0.9875, ..., 0.025 , 0.0125, 0.    ]),\n",
       " array([-16.76888795, -16.68131529, -16.11414085, ...,  33.93557335,\n",
       "         34.76037247,  36.85159682]))"
      ]
     },
     "execution_count": 31,
     "metadata": {},
     "output_type": "execute_result"
    },
    {
     "data": {
      "text/plain": [
       "<Figure size 432x288 with 0 Axes>"
      ]
     },
     "execution_count": 31,
     "metadata": {},
     "output_type": "execute_result"
    },
    {
     "data": {
      "text/plain": [
       "[<matplotlib.lines.Line2D at 0x7fbba8dcca00>]"
      ]
     },
     "execution_count": 31,
     "metadata": {},
     "output_type": "execute_result"
    },
    {
     "data": {
      "text/plain": [
       "[<matplotlib.lines.Line2D at 0x7fbba8dccdf0>]"
      ]
     },
     "execution_count": 31,
     "metadata": {},
     "output_type": "execute_result"
    },
    {
     "data": {
      "image/png": "[encoded data removed]",
      "text/plain": [
       "<Figure size 432x288 with 1 Axes>"
      ]
     },
     "metadata": {
      "needs_background": "light"
     },
     "output_type": "display_data"
    }
   ],
   "source": [
    "import matplotlib.pyplot as plt\n",
    "precision, recall, thresholds = precision_recall_curve(y_test,y_preds)\n",
    "precision, recall, thresholds\n",
    "fpr_lr, tpr_lr, _ = roc_curve(y_test, y_preds)\n",
    "plt.figure()\n",
    "plt.plot(precision,recall, color='red')\n",
    "plt.plot(fpr_lr,tpr_lr, color='blue', marker='+')\n",
    "plt.show()\n",
    "    "
   ]
  },
  {
   "cell_type": "code",
   "execution_count": 20,
   "metadata": {},
   "outputs": [],
   "source": [
    "def answer_five():\n",
    "        \n",
    "    # Your code here\n",
    "    from sklearn.linear_model import LogisticRegression\n",
    "    from sklearn.metrics import precision_recall_curve, roc_curve\n",
    "    logistic_clf = LogisticRegression().fit(X_train,y_train)\n",
    "    y_preds = logistic_clf.decision_function(X_test)\n",
    "    precision, recall, thresholds = precision_recall_curve(y_test,y_preds)\n",
    "    fpr_lr, tpr_lr, _ = roc_curve(y_test, y_preds)\n",
    "    return (0.82,0.9)"
   ]
  },
  {
   "cell_type": "markdown",
   "metadata": {},
   "source": [
    "### Question 6\n",
    "\n",
    "Perform a grid search over the parameters listed below for a Logisitic Regression classifier, using recall for scoring and the default 3-fold cross validation.\n",
    "\n",
    "`'penalty': ['l1', 'l2']`\n",
    "\n",
    "`'C':[0.01, 0.1, 1, 10, 100]`\n",
    "\n",
    "From `.cv_results_`, create an array of the mean test scores of each parameter combination. i.e.\n",
    "\n",
    "|      \t| `l1` \t| `l2` \t|\n",
    "|:----:\t|----\t|----\t|\n",
    "| **`0.01`** \t|    ?\t|   ? \t|\n",
    "| **`0.1`**  \t|    ?\t|   ? \t|\n",
    "| **`1`**    \t|    ?\t|   ? \t|\n",
    "| **`10`**   \t|    ?\t|   ? \t|\n",
    "| **`100`**   \t|    ?\t|   ? \t|\n",
    "\n",
    "<br>\n",
    "\n",
    "*This function should return a 5 by 2 numpy array with 10 floats.* \n",
    "\n",
    "*Note: do not return a DataFrame, just the values denoted by '?' above in a numpy array. You might need to reshape your raw result to meet the format we are looking for.*"
   ]
  },
  {
   "cell_type": "code",
   "execution_count": 21,
   "metadata": {},
   "outputs": [],
   "source": [
    "import warnings\n",
    "warnings.filterwarnings(\"ignore\")"
   ]
  },
  {
   "cell_type": "code",
   "execution_count": 22,
   "metadata": {
    "scrolled": true
   },
   "outputs": [
    {
     "data": {
      "text/plain": [
       "GridSearchCV(cv=3, estimator=LogisticRegression(),\n",
       "             param_grid={'C': [0.01, 0.1, 1, 10, 100], 'penalty': ['l1', 'l2']})"
      ]
     },
     "execution_count": 22,
     "metadata": {},
     "output_type": "execute_result"
    }
   ],
   "source": [
    "from sklearn.model_selection import GridSearchCV\n",
    "grid_values={'penalty': ['l1', 'l2'], 'C':[0.01, 0.1, 1, 10, 100]}\n",
    "logistic_clf = LogisticRegression()\n",
    "model_logistic = GridSearchCV(estimator = logistic_clf, param_grid = grid_values, cv = 3)\n",
    "model_logistic.fit(X_train,y_train)"
   ]
  },
  {
   "cell_type": "code",
   "execution_count": 23,
   "metadata": {},
   "outputs": [
    {
     "data": {
      "text/plain": [
       "array([0, 0, 0, ..., 0, 0, 0])"
      ]
     },
     "execution_count": 23,
     "metadata": {},
     "output_type": "execute_result"
    }
   ],
   "source": [
    "model_logistic.predict(X_test)"
   ]
  },
  {
   "cell_type": "code",
   "execution_count": 24,
   "metadata": {},
   "outputs": [
    {
     "data": {
      "text/plain": [
       "array([[       nan, 0.99618907],\n",
       "       [       nan, 0.99606614],\n",
       "       [       nan, 0.99569734],\n",
       "       [       nan, 0.99563587],\n",
       "       [       nan, 0.99557441]])"
      ]
     },
     "execution_count": 24,
     "metadata": {},
     "output_type": "execute_result"
    }
   ],
   "source": [
    "model_logistic.cv_results_['mean_test_score'].reshape(5,2)"
   ]
  },
  {
   "cell_type": "code",
   "execution_count": 28,
   "metadata": {},
   "outputs": [
    {
     "data": {
      "text/plain": [
       "array([[       nan, 0.99618907],\n",
       "       [       nan, 0.99606614],\n",
       "       [       nan, 0.99569734],\n",
       "       [       nan, 0.99563587],\n",
       "       [       nan, 0.99557441]])"
      ]
     },
     "execution_count": 28,
     "metadata": {},
     "output_type": "execute_result"
    }
   ],
   "source": [
    "def answer_six():    \n",
    "    from sklearn.model_selection import GridSearchCV\n",
    "    from sklearn.linear_model import LogisticRegression\n",
    "\n",
    "    # Your code here\n",
    "    grid_values={'penalty': ['l1', 'l2'], 'C':[0.01, 0.1, 1, 10, 100]}\n",
    "    logistic_clf = LogisticRegression()\n",
    "    model_logistic = GridSearchCV(estimator = logistic_clf, param_grid = grid_values, cv = 3)\n",
    "    model_logistic.fit(X_train,y_train)\n",
    "    return model_logistic.cv_results_['mean_test_score'].reshape(5,2)\n",
    "answer_six()"
   ]
  },
  {
   "cell_type": "code",
   "execution_count": 32,
   "metadata": {},
   "outputs": [
    {
     "data": {
      "application/javascript": [
       "/* Put everything inside the global mpl namespace */\n",
       "window.mpl = {};\n",
       "\n",
       "\n",
       "mpl.get_websocket_type = function() {\n",
       "    if (typeof(WebSocket) !== 'undefined') {\n",
       "        return WebSocket;\n",
       "    } else if (typeof(MozWebSocket) !== 'undefined') {\n",
       "        return MozWebSocket;\n",
       "    } else {\n",
       "        alert('Your browser does not have WebSocket support. ' +\n",
       "              'Please try Chrome, Safari or Firefox ≥ 6. ' +\n",
       "              'Firefox 4 and 5 are also supported but you ' +\n",
       "              'have to enable WebSockets in about:config.');\n",
       "    };\n",
       "}\n",
       "\n",
       "mpl.figure = function(figure_id, websocket, ondownload, parent_element) {\n",
       "    this.id = figure_id;\n",
       "\n",
       "    this.ws = websocket;\n",
       "\n",
       "    this.supports_binary = (this.ws.binaryType != undefined);\n",
       "\n",
       "    if (!this.supports_binary) {\n",
       "        var warnings = document.getElementById(\"mpl-warnings\");\n",
       "        if (warnings) {\n",
       "            warnings.style.display = 'block';\n",
       "            warnings.textContent = (\n",
       "                \"This browser does not support binary websocket messages. \" +\n",
       "                    \"Performance may be slow.\");\n",
       "        }\n",
       "    }\n",
       "\n",
       "    this.imageObj = new Image();\n",
       "\n",
       "    this.context = undefined;\n",
       "    this.message = undefined;\n",
       "    this.canvas = undefined;\n",
       "    this.rubberband_canvas = undefined;\n",
       "    this.rubberband_context = undefined;\n",
       "    this.format_dropdown = undefined;\n",
       "\n",
       "    this.image_mode = 'full';\n",
       "\n",
       "    this.root = $('<div/>');\n",
       "    this._root_extra_style(this.root)\n",
       "    this.root.attr('style', 'display: inline-block');\n",
       "\n",
       "    $(parent_element).append(this.root);\n",
       "\n",
       "    this._init_header(this);\n",
       "    this._init_canvas(this);\n",
       "    this._init_toolbar(this);\n",
       "\n",
       "    var fig = this;\n",
       "\n",
       "    this.waiting = false;\n",
       "\n",
       "    this.ws.onopen =  function () {\n",
       "            fig.send_message(\"supports_binary\", {value: fig.supports_binary});\n",
       "            fig.send_message(\"send_image_mode\", {});\n",
       "            if (mpl.ratio != 1) {\n",
       "                fig.send_message(\"set_dpi_ratio\", {'dpi_ratio': mpl.ratio});\n",
       "            }\n",
       "            fig.send_message(\"refresh\", {});\n",
       "        }\n",
       "\n",
       "    this.imageObj.onload = function() {\n",
       "            if (fig.image_mode == 'full') {\n",
       "                // Full images could contain transparency (where diff images\n",
       "                // almost always do), so we need to clear the canvas so that\n",
       "                // there is no ghosting.\n",
       "                fig.context.clearRect(0, 0, fig.canvas.width, fig.canvas.height);\n",
       "            }\n",
       "            fig.context.drawImage(fig.imageObj, 0, 0);\n",
       "        };\n",
       "\n",
       "    this.imageObj.onunload = function() {\n",
       "        fig.ws.close();\n",
       "    }\n",
       "\n",
       "    this.ws.onmessage = this._make_on_message_function(this);\n",
       "\n",
       "    this.ondownload = ondownload;\n",
       "}\n",
       "\n",
       "mpl.figure.prototype._init_header = function() {\n",
       "    var titlebar = $(\n",
       "        '<div class=\"ui-dialog-titlebar ui-widget-header ui-corner-all ' +\n",
       "        'ui-helper-clearfix\"/>');\n",
       "    var titletext = $(\n",
       "        '<div class=\"ui-dialog-title\" style=\"width: 100%; ' +\n",
       "        'text-align: center; padding: 3px;\"/>');\n",
       "    titlebar.append(titletext)\n",
       "    this.root.append(titlebar);\n",
       "    this.header = titletext[0];\n",
       "}\n",
       "\n",
       "\n",
       "\n",
       "mpl.figure.prototype._canvas_extra_style = function(canvas_div) {\n",
       "\n",
       "}\n",
       "\n",
       "\n",
       "mpl.figure.prototype._root_extra_style = function(canvas_div) {\n",
       "\n",
       "}\n",
       "\n",
       "mpl.figure.prototype._init_canvas = function() {\n",
       "    var fig = this;\n",
       "\n",
       "    var canvas_div = $('<div/>');\n",
       "\n",
       "    canvas_div.attr('style', 'position: relative; clear: both; outline: 0');\n",
       "\n",
       "    function canvas_keyboard_event(event) {\n",
       "        return fig.key_event(event, event['data']);\n",
       "    }\n",
       "\n",
       "    canvas_div.keydown('key_press', canvas_keyboard_event);\n",
       "    canvas_div.keyup('key_release', canvas_keyboard_event);\n",
       "    this.canvas_div = canvas_div\n",
       "    this._canvas_extra_style(canvas_div)\n",
       "    this.root.append(canvas_div);\n",
       "\n",
       "    var canvas = $('<canvas/>');\n",
       "    canvas.addClass('mpl-canvas');\n",
       "    canvas.attr('style', \"left: 0; top: 0; z-index: 0; outline: 0\")\n",
       "\n",
       "    this.canvas = canvas[0];\n",
       "    this.context = canvas[0].getContext(\"2d\");\n",
       "\n",
       "    var backingStore = this.context.backingStorePixelRatio ||\n",
       "\tthis.context.webkitBackingStorePixelRatio ||\n",
       "\tthis.context.mozBackingStorePixelRatio ||\n",
       "\tthis.context.msBackingStorePixelRatio ||\n",
       "\tthis.context.oBackingStorePixelRatio ||\n",
       "\tthis.context.backingStorePixelRatio || 1;\n",
       "\n",
       "    mpl.ratio = (window.devicePixelRatio || 1) / backingStore;\n",
       "\n",
       "    var rubberband = $('<canvas/>');\n",
       "    rubberband.attr('style', \"position: absolute; left: 0; top: 0; z-index: 1;\")\n",
       "\n",
       "    var pass_mouse_events = true;\n",
       "\n",
       "    canvas_div.resizable({\n",
       "        start: function(event, ui) {\n",
       "            pass_mouse_events = false;\n",
       "        },\n",
       "        resize: function(event, ui) {\n",
       "            fig.request_resize(ui.size.width, ui.size.height);\n",
       "        },\n",
       "        stop: function(event, ui) {\n",
       "            pass_mouse_events = true;\n",
       "            fig.request_resize(ui.size.width, ui.size.height);\n",
       "        },\n",
       "    });\n",
       "\n",
       "    function mouse_event_fn(event) {\n",
       "        if (pass_mouse_events)\n",
       "            return fig.mouse_event(event, event['data']);\n",
       "    }\n",
       "\n",
       "    rubberband.mousedown('button_press', mouse_event_fn);\n",
       "    rubberband.mouseup('button_release', mouse_event_fn);\n",
       "    // Throttle sequential mouse events to 1 every 20ms.\n",
       "    rubberband.mousemove('motion_notify', mouse_event_fn);\n",
       "\n",
       "    rubberband.mouseenter('figure_enter', mouse_event_fn);\n",
       "    rubberband.mouseleave('figure_leave', mouse_event_fn);\n",
       "\n",
       "    canvas_div.on(\"wheel\", function (event) {\n",
       "        event = event.originalEvent;\n",
       "        event['data'] = 'scroll'\n",
       "        if (event.deltaY < 0) {\n",
       "            event.step = 1;\n",
       "        } else {\n",
       "            event.step = -1;\n",
       "        }\n",
       "        mouse_event_fn(event);\n",
       "    });\n",
       "\n",
       "    canvas_div.append(canvas);\n",
       "    canvas_div.append(rubberband);\n",
       "\n",
       "    this.rubberband = rubberband;\n",
       "    this.rubberband_canvas = rubberband[0];\n",
       "    this.rubberband_context = rubberband[0].getContext(\"2d\");\n",
       "    this.rubberband_context.strokeStyle = \"#000000\";\n",
       "\n",
       "    this._resize_canvas = function(width, height) {\n",
       "        // Keep the size of the canvas, canvas container, and rubber band\n",
       "        // canvas in synch.\n",
       "        canvas_div.css('width', width)\n",
       "        canvas_div.css('height', height)\n",
       "\n",
       "        canvas.attr('width', width * mpl.ratio);\n",
       "        canvas.attr('height', height * mpl.ratio);\n",
       "        canvas.attr('style', 'width: ' + width + 'px; height: ' + height + 'px;');\n",
       "\n",
       "        rubberband.attr('width', width);\n",
       "        rubberband.attr('height', height);\n",
       "    }\n",
       "\n",
       "    // Set the figure to an initial 600x600px, this will subsequently be updated\n",
       "    // upon first draw.\n",
       "    this._resize_canvas(600, 600);\n",
       "\n",
       "    // Disable right mouse context menu.\n",
       "    $(this.rubberband_canvas).bind(\"contextmenu\",function(e){\n",
       "        return false;\n",
       "    });\n",
       "\n",
       "    function set_focus () {\n",
       "        canvas.focus();\n",
       "        canvas_div.focus();\n",
       "    }\n",
       "\n",
       "    window.setTimeout(set_focus, 100);\n",
       "}\n",
       "\n",
       "mpl.figure.prototype._init_toolbar = function() {\n",
       "    var fig = this;\n",
       "\n",
       "    var nav_element = $('<div/>');\n",
       "    nav_element.attr('style', 'width: 100%');\n",
       "    this.root.append(nav_element);\n",
       "\n",
       "    // Define a callback function for later on.\n",
       "    function toolbar_event(event) {\n",
       "        return fig.toolbar_button_onclick(event['data']);\n",
       "    }\n",
       "    function toolbar_mouse_event(event) {\n",
       "        return fig.toolbar_button_onmouseover(event['data']);\n",
       "    }\n",
       "\n",
       "    for(var toolbar_ind in mpl.toolbar_items) {\n",
       "        var name = mpl.toolbar_items[toolbar_ind][0];\n",
       "        var tooltip = mpl.toolbar_items[toolbar_ind][1];\n",
       "        var image = mpl.toolbar_items[toolbar_ind][2];\n",
       "        var method_name = mpl.toolbar_items[toolbar_ind][3];\n",
       "\n",
       "        if (!name) {\n",
       "            // put a spacer in here.\n",
       "            continue;\n",
       "        }\n",
       "        var button = $('<button/>');\n",
       "        button.addClass('ui-button ui-widget ui-state-default ui-corner-all ' +\n",
       "                        'ui-button-icon-only');\n",
       "        button.attr('role', 'button');\n",
       "        button.attr('aria-disabled', 'false');\n",
       "        button.click(method_name, toolbar_event);\n",
       "        button.mouseover(tooltip, toolbar_mouse_event);\n",
       "\n",
       "        var icon_img = $('<span/>');\n",
       "        icon_img.addClass('ui-button-icon-primary ui-icon');\n",
       "        icon_img.addClass(image);\n",
       "        icon_img.addClass('ui-corner-all');\n",
       "\n",
       "        var tooltip_span = $('<span/>');\n",
       "        tooltip_span.addClass('ui-button-text');\n",
       "        tooltip_span.html(tooltip);\n",
       "\n",
       "        button.append(icon_img);\n",
       "        button.append(tooltip_span);\n",
       "\n",
       "        nav_element.append(button);\n",
       "    }\n",
       "\n",
       "    var fmt_picker_span = $('<span/>');\n",
       "\n",
       "    var fmt_picker = $('<select/>');\n",
       "    fmt_picker.addClass('mpl-toolbar-option ui-widget ui-widget-content');\n",
       "    fmt_picker_span.append(fmt_picker);\n",
       "    nav_element.append(fmt_picker_span);\n",
       "    this.format_dropdown = fmt_picker[0];\n",
       "\n",
       "    for (var ind in mpl.extensions) {\n",
       "        var fmt = mpl.extensions[ind];\n",
       "        var option = $(\n",
       "            '<option/>', {selected: fmt === mpl.default_extension}).html(fmt);\n",
       "        fmt_picker.append(option);\n",
       "    }\n",
       "\n",
       "    // Add hover states to the ui-buttons\n",
       "    $( \".ui-button\" ).hover(\n",
       "        function() { $(this).addClass(\"ui-state-hover\");},\n",
       "        function() { $(this).removeClass(\"ui-state-hover\");}\n",
       "    );\n",
       "\n",
       "    var status_bar = $('<span class=\"mpl-message\"/>');\n",
       "    nav_element.append(status_bar);\n",
       "    this.message = status_bar[0];\n",
       "}\n",
       "\n",
       "mpl.figure.prototype.request_resize = function(x_pixels, y_pixels) {\n",
       "    // Request matplotlib to resize the figure. Matplotlib will then trigger a resize in the client,\n",
       "    // which will in turn request a refresh of the image.\n",
       "    this.send_message('resize', {'width': x_pixels, 'height': y_pixels});\n",
       "}\n",
       "\n",
       "mpl.figure.prototype.send_message = function(type, properties) {\n",
       "    properties['type'] = type;\n",
       "    properties['figure_id'] = this.id;\n",
       "    this.ws.send(JSON.stringify(properties));\n",
       "}\n",
       "\n",
       "mpl.figure.prototype.send_draw_message = function() {\n",
       "    if (!this.waiting) {\n",
       "        this.waiting = true;\n",
       "        this.ws.send(JSON.stringify({type: \"draw\", figure_id: this.id}));\n",
       "    }\n",
       "}\n",
       "\n",
       "\n",
       "mpl.figure.prototype.handle_save = function(fig, msg) {\n",
       "    var format_dropdown = fig.format_dropdown;\n",
       "    var format = format_dropdown.options[format_dropdown.selectedIndex].value;\n",
       "    fig.ondownload(fig, format);\n",
       "}\n",
       "\n",
       "\n",
       "mpl.figure.prototype.handle_resize = function(fig, msg) {\n",
       "    var size = msg['size'];\n",
       "    if (size[0] != fig.canvas.width || size[1] != fig.canvas.height) {\n",
       "        fig._resize_canvas(size[0], size[1]);\n",
       "        fig.send_message(\"refresh\", {});\n",
       "    };\n",
       "}\n",
       "\n",
       "mpl.figure.prototype.handle_rubberband = function(fig, msg) {\n",
       "    var x0 = msg['x0'] / mpl.ratio;\n",
       "    var y0 = (fig.canvas.height - msg['y0']) / mpl.ratio;\n",
       "    var x1 = msg['x1'] / mpl.ratio;\n",
       "    var y1 = (fig.canvas.height - msg['y1']) / mpl.ratio;\n",
       "    x0 = Math.floor(x0) + 0.5;\n",
       "    y0 = Math.floor(y0) + 0.5;\n",
       "    x1 = Math.floor(x1) + 0.5;\n",
       "    y1 = Math.floor(y1) + 0.5;\n",
       "    var min_x = Math.min(x0, x1);\n",
       "    var min_y = Math.min(y0, y1);\n",
       "    var width = Math.abs(x1 - x0);\n",
       "    var height = Math.abs(y1 - y0);\n",
       "\n",
       "    fig.rubberband_context.clearRect(\n",
       "        0, 0, fig.canvas.width / mpl.ratio, fig.canvas.height / mpl.ratio);\n",
       "\n",
       "    fig.rubberband_context.strokeRect(min_x, min_y, width, height);\n",
       "}\n",
       "\n",
       "mpl.figure.prototype.handle_figure_label = function(fig, msg) {\n",
       "    // Updates the figure title.\n",
       "    fig.header.textContent = msg['label'];\n",
       "}\n",
       "\n",
       "mpl.figure.prototype.handle_cursor = function(fig, msg) {\n",
       "    var cursor = msg['cursor'];\n",
       "    switch(cursor)\n",
       "    {\n",
       "    case 0:\n",
       "        cursor = 'pointer';\n",
       "        break;\n",
       "    case 1:\n",
       "        cursor = 'default';\n",
       "        break;\n",
       "    case 2:\n",
       "        cursor = 'crosshair';\n",
       "        break;\n",
       "    case 3:\n",
       "        cursor = 'move';\n",
       "        break;\n",
       "    }\n",
       "    fig.rubberband_canvas.style.cursor = cursor;\n",
       "}\n",
       "\n",
       "mpl.figure.prototype.handle_message = function(fig, msg) {\n",
       "    fig.message.textContent = msg['message'];\n",
       "}\n",
       "\n",
       "mpl.figure.prototype.handle_draw = function(fig, msg) {\n",
       "    // Request the server to send over a new figure.\n",
       "    fig.send_draw_message();\n",
       "}\n",
       "\n",
       "mpl.figure.prototype.handle_image_mode = function(fig, msg) {\n",
       "    fig.image_mode = msg['mode'];\n",
       "}\n",
       "\n",
       "mpl.figure.prototype.updated_canvas_event = function() {\n",
       "    // Called whenever the canvas gets updated.\n",
       "    this.send_message(\"ack\", {});\n",
       "}\n",
       "\n",
       "// A function to construct a web socket function for onmessage handling.\n",
       "// Called in the figure constructor.\n",
       "mpl.figure.prototype._make_on_message_function = function(fig) {\n",
       "    return function socket_on_message(evt) {\n",
       "        if (evt.data instanceof Blob) {\n",
       "            /* FIXME: We get \"Resource interpreted as Image but\n",
       "             * transferred with MIME type text/plain:\" errors on\n",
       "             * Chrome.  But how to set the MIME type?  It doesn't seem\n",
       "             * to be part of the websocket stream */\n",
       "            evt.data.type = \"image/png\";\n",
       "\n",
       "            /* Free the memory for the previous frames */\n",
       "            if (fig.imageObj.src) {\n",
       "                (window.URL || window.webkitURL).revokeObjectURL(\n",
       "                    fig.imageObj.src);\n",
       "            }\n",
       "\n",
       "            fig.imageObj.src = (window.URL || window.webkitURL).createObjectURL(\n",
       "                evt.data);\n",
       "            fig.updated_canvas_event();\n",
       "            fig.waiting = false;\n",
       "            return;\n",
       "        }\n",
       "        else if (typeof evt.data === 'string' && evt.data.slice(0, 21) == \"data:image/png;base64\") {\n",
       "            fig.imageObj.src = evt.data;\n",
       "            fig.updated_canvas_event();\n",
       "            fig.waiting = false;\n",
       "            return;\n",
       "        }\n",
       "\n",
       "        var msg = JSON.parse(evt.data);\n",
       "        var msg_type = msg['type'];\n",
       "\n",
       "        // Call the  \"handle_{type}\" callback, which takes\n",
       "        // the figure and JSON message as its only arguments.\n",
       "        try {\n",
       "            var callback = fig[\"handle_\" + msg_type];\n",
       "        } catch (e) {\n",
       "            console.log(\"No handler for the '\" + msg_type + \"' message type: \", msg);\n",
       "            return;\n",
       "        }\n",
       "\n",
       "        if (callback) {\n",
       "            try {\n",
       "                // console.log(\"Handling '\" + msg_type + \"' message: \", msg);\n",
       "                callback(fig, msg);\n",
       "            } catch (e) {\n",
       "                console.log(\"Exception inside the 'handler_\" + msg_type + \"' callback:\", e, e.stack, msg);\n",
       "            }\n",
       "        }\n",
       "    };\n",
       "}\n",
       "\n",
       "// from http://stackoverflow.com/questions/1114465/getting-mouse-location-in-canvas\n",
       "mpl.findpos = function(e) {\n",
       "    //this section is from http://www.quirksmode.org/js/events_properties.html\n",
       "    var targ;\n",
       "    if (!e)\n",
       "        e = window.event;\n",
       "    if (e.target)\n",
       "        targ = e.target;\n",
       "    else if (e.srcElement)\n",
       "        targ = e.srcElement;\n",
       "    if (targ.nodeType == 3) // defeat Safari bug\n",
       "        targ = targ.parentNode;\n",
       "\n",
       "    // jQuery normalizes the pageX and pageY\n",
       "    // pageX,Y are the mouse positions relative to the document\n",
       "    // offset() returns the position of the element relative to the document\n",
       "    var x = e.pageX - $(targ).offset().left;\n",
       "    var y = e.pageY - $(targ).offset().top;\n",
       "\n",
       "    return {\"x\": x, \"y\": y};\n",
       "};\n",
       "\n",
       "/*\n",
       " * return a copy of an object with only non-object keys\n",
       " * we need this to avoid circular references\n",
       " * http://stackoverflow.com/a/24161582/3208463\n",
       " */\n",
       "function simpleKeys (original) {\n",
       "  return Object.keys(original).reduce(function (obj, key) {\n",
       "    if (typeof original[key] !== 'object')\n",
       "        obj[key] = original[key]\n",
       "    return obj;\n",
       "  }, {});\n",
       "}\n",
       "\n",
       "mpl.figure.prototype.mouse_event = function(event, name) {\n",
       "    var canvas_pos = mpl.findpos(event)\n",
       "\n",
       "    if (name === 'button_press')\n",
       "    {\n",
       "        this.canvas.focus();\n",
       "        this.canvas_div.focus();\n",
       "    }\n",
       "\n",
       "    var x = canvas_pos.x * mpl.ratio;\n",
       "    var y = canvas_pos.y * mpl.ratio;\n",
       "\n",
       "    this.send_message(name, {x: x, y: y, button: event.button,\n",
       "                             step: event.step,\n",
       "                             guiEvent: simpleKeys(event)});\n",
       "\n",
       "    /* This prevents the web browser from automatically changing to\n",
       "     * the text insertion cursor when the button is pressed.  We want\n",
       "     * to control all of the cursor setting manually through the\n",
       "     * 'cursor' event from matplotlib */\n",
       "    event.preventDefault();\n",
       "    return false;\n",
       "}\n",
       "\n",
       "mpl.figure.prototype._key_event_extra = function(event, name) {\n",
       "    // Handle any extra behaviour associated with a key event\n",
       "}\n",
       "\n",
       "mpl.figure.prototype.key_event = function(event, name) {\n",
       "\n",
       "    // Prevent repeat events\n",
       "    if (name == 'key_press')\n",
       "    {\n",
       "        if (event.which === this._key)\n",
       "            return;\n",
       "        else\n",
       "            this._key = event.which;\n",
       "    }\n",
       "    if (name == 'key_release')\n",
       "        this._key = null;\n",
       "\n",
       "    var value = '';\n",
       "    if (event.ctrlKey && event.which != 17)\n",
       "        value += \"ctrl+\";\n",
       "    if (event.altKey && event.which != 18)\n",
       "        value += \"alt+\";\n",
       "    if (event.shiftKey && event.which != 16)\n",
       "        value += \"shift+\";\n",
       "\n",
       "    value += 'k';\n",
       "    value += event.which.toString();\n",
       "\n",
       "    this._key_event_extra(event, name);\n",
       "\n",
       "    this.send_message(name, {key: value,\n",
       "                             guiEvent: simpleKeys(event)});\n",
       "    return false;\n",
       "}\n",
       "\n",
       "mpl.figure.prototype.toolbar_button_onclick = function(name) {\n",
       "    if (name == 'download') {\n",
       "        this.handle_save(this, null);\n",
       "    } else {\n",
       "        this.send_message(\"toolbar_button\", {name: name});\n",
       "    }\n",
       "};\n",
       "\n",
       "mpl.figure.prototype.toolbar_button_onmouseover = function(tooltip) {\n",
       "    this.message.textContent = tooltip;\n",
       "};\n",
       "mpl.toolbar_items = [[\"Home\", \"Reset original view\", \"fa fa-home icon-home\", \"home\"], [\"Back\", \"Back to previous view\", \"fa fa-arrow-left icon-arrow-left\", \"back\"], [\"Forward\", \"Forward to next view\", \"fa fa-arrow-right icon-arrow-right\", \"forward\"], [\"\", \"\", \"\", \"\"], [\"Pan\", \"Pan axes with left mouse, zoom with right\", \"fa fa-arrows icon-move\", \"pan\"], [\"Zoom\", \"Zoom to rectangle\", \"fa fa-square-o icon-check-empty\", \"zoom\"], [\"\", \"\", \"\", \"\"], [\"Download\", \"Download plot\", \"fa fa-floppy-o icon-save\", \"download\"]];\n",
       "\n",
       "mpl.extensions = [\"eps\", \"jpeg\", \"pdf\", \"png\", \"ps\", \"raw\", \"svg\", \"tif\"];\n",
       "\n",
       "mpl.default_extension = \"png\";var comm_websocket_adapter = function(comm) {\n",
       "    // Create a \"websocket\"-like object which calls the given IPython comm\n",
       "    // object with the appropriate methods. Currently this is a non binary\n",
       "    // socket, so there is still some room for performance tuning.\n",
       "    var ws = {};\n",
       "\n",
       "    ws.close = function() {\n",
       "        comm.close()\n",
       "    };\n",
       "    ws.send = function(m) {\n",
       "        //console.log('sending', m);\n",
       "        comm.send(m);\n",
       "    };\n",
       "    // Register the callback with on_msg.\n",
       "    comm.on_msg(function(msg) {\n",
       "        //console.log('receiving', msg['content']['data'], msg);\n",
       "        // Pass the mpl event to the overridden (by mpl) onmessage function.\n",
       "        ws.onmessage(msg['content']['data'])\n",
       "    });\n",
       "    return ws;\n",
       "}\n",
       "\n",
       "mpl.mpl_figure_comm = function(comm, msg) {\n",
       "    // This is the function which gets called when the mpl process\n",
       "    // starts-up an IPython Comm through the \"matplotlib\" channel.\n",
       "\n",
       "    var id = msg.content.data.id;\n",
       "    // Get hold of the div created by the display call when the Comm\n",
       "    // socket was opened in Python.\n",
       "    var element = $(\"#\" + id);\n",
       "    var ws_proxy = comm_websocket_adapter(comm)\n",
       "\n",
       "    function ondownload(figure, format) {\n",
       "        window.open(figure.imageObj.src);\n",
       "    }\n",
       "\n",
       "    var fig = new mpl.figure(id, ws_proxy,\n",
       "                           ondownload,\n",
       "                           element.get(0));\n",
       "\n",
       "    // Call onopen now - mpl needs it, as it is assuming we've passed it a real\n",
       "    // web socket which is closed, not our websocket->open comm proxy.\n",
       "    ws_proxy.onopen();\n",
       "\n",
       "    fig.parent_element = element.get(0);\n",
       "    fig.cell_info = mpl.find_output_cell(\"<div id='\" + id + \"'></div>\");\n",
       "    if (!fig.cell_info) {\n",
       "        console.error(\"Failed to find cell for figure\", id, fig);\n",
       "        return;\n",
       "    }\n",
       "\n",
       "    var output_index = fig.cell_info[2]\n",
       "    var cell = fig.cell_info[0];\n",
       "\n",
       "};\n",
       "\n",
       "mpl.figure.prototype.handle_close = function(fig, msg) {\n",
       "    var width = fig.canvas.width/mpl.ratio\n",
       "    fig.root.unbind('remove')\n",
       "\n",
       "    // Update the output cell to use the data from the current canvas.\n",
       "    fig.push_to_output();\n",
       "    var dataURL = fig.canvas.toDataURL();\n",
       "    // Re-enable the keyboard manager in IPython - without this line, in FF,\n",
       "    // the notebook keyboard shortcuts fail.\n",
       "    IPython.keyboard_manager.enable()\n",
       "    $(fig.parent_element).html('<img src=\"' + dataURL + '\" width=\"' + width + '\">');\n",
       "    fig.close_ws(fig, msg);\n",
       "}\n",
       "\n",
       "mpl.figure.prototype.close_ws = function(fig, msg){\n",
       "    fig.send_message('closing', msg);\n",
       "    // fig.ws.close()\n",
       "}\n",
       "\n",
       "mpl.figure.prototype.push_to_output = function(remove_interactive) {\n",
       "    // Turn the data on the canvas into data in the output cell.\n",
       "    var width = this.canvas.width/mpl.ratio\n",
       "    var dataURL = this.canvas.toDataURL();\n",
       "    this.cell_info[1]['text/html'] = '<img src=\"' + dataURL + '\" width=\"' + width + '\">';\n",
       "}\n",
       "\n",
       "mpl.figure.prototype.updated_canvas_event = function() {\n",
       "    // Tell IPython that the notebook contents must change.\n",
       "    IPython.notebook.set_dirty(true);\n",
       "    this.send_message(\"ack\", {});\n",
       "    var fig = this;\n",
       "    // Wait a second, then push the new image to the DOM so\n",
       "    // that it is saved nicely (might be nice to debounce this).\n",
       "    setTimeout(function () { fig.push_to_output() }, 1000);\n",
       "}\n",
       "\n",
       "mpl.figure.prototype._init_toolbar = function() {\n",
       "    var fig = this;\n",
       "\n",
       "    var nav_element = $('<div/>');\n",
       "    nav_element.attr('style', 'width: 100%');\n",
       "    this.root.append(nav_element);\n",
       "\n",
       "    // Define a callback function for later on.\n",
       "    function toolbar_event(event) {\n",
       "        return fig.toolbar_button_onclick(event['data']);\n",
       "    }\n",
       "    function toolbar_mouse_event(event) {\n",
       "        return fig.toolbar_button_onmouseover(event['data']);\n",
       "    }\n",
       "\n",
       "    for(var toolbar_ind in mpl.toolbar_items){\n",
       "        var name = mpl.toolbar_items[toolbar_ind][0];\n",
       "        var tooltip = mpl.toolbar_items[toolbar_ind][1];\n",
       "        var image = mpl.toolbar_items[toolbar_ind][2];\n",
       "        var method_name = mpl.toolbar_items[toolbar_ind][3];\n",
       "\n",
       "        if (!name) { continue; };\n",
       "\n",
       "        var button = $('<button class=\"btn btn-default\" href=\"#\" title=\"' + name + '\"><i class=\"fa ' + image + ' fa-lg\"></i></button>');\n",
       "        button.click(method_name, toolbar_event);\n",
       "        button.mouseover(tooltip, toolbar_mouse_event);\n",
       "        nav_element.append(button);\n",
       "    }\n",
       "\n",
       "    // Add the status bar.\n",
       "    var status_bar = $('<span class=\"mpl-message\" style=\"text-align:right; float: right;\"/>');\n",
       "    nav_element.append(status_bar);\n",
       "    this.message = status_bar[0];\n",
       "\n",
       "    // Add the close button to the window.\n",
       "    var buttongrp = $('<div class=\"btn-group inline pull-right\"></div>');\n",
       "    var button = $('<button class=\"btn btn-mini btn-primary\" href=\"#\" title=\"Stop Interaction\"><i class=\"fa fa-power-off icon-remove icon-large\"></i></button>');\n",
       "    button.click(function (evt) { fig.handle_close(fig, {}); } );\n",
       "    button.mouseover('Stop Interaction', toolbar_mouse_event);\n",
       "    buttongrp.append(button);\n",
       "    var titlebar = this.root.find($('.ui-dialog-titlebar'));\n",
       "    titlebar.prepend(buttongrp);\n",
       "}\n",
       "\n",
       "mpl.figure.prototype._root_extra_style = function(el){\n",
       "    var fig = this\n",
       "    el.on(\"remove\", function(){\n",
       "\tfig.close_ws(fig, {});\n",
       "    });\n",
       "}\n",
       "\n",
       "mpl.figure.prototype._canvas_extra_style = function(el){\n",
       "    // this is important to make the div 'focusable\n",
       "    el.attr('tabindex', 0)\n",
       "    // reach out to IPython and tell the keyboard manager to turn it's self\n",
       "    // off when our div gets focus\n",
       "\n",
       "    // location in version 3\n",
       "    if (IPython.notebook.keyboard_manager) {\n",
       "        IPython.notebook.keyboard_manager.register_events(el);\n",
       "    }\n",
       "    else {\n",
       "        // location in version 2\n",
       "        IPython.keyboard_manager.register_events(el);\n",
       "    }\n",
       "\n",
       "}\n",
       "\n",
       "mpl.figure.prototype._key_event_extra = function(event, name) {\n",
       "    var manager = IPython.notebook.keyboard_manager;\n",
       "    if (!manager)\n",
       "        manager = IPython.keyboard_manager;\n",
       "\n",
       "    // Check for shift+enter\n",
       "    if (event.shiftKey && event.which == 13) {\n",
       "        this.canvas_div.blur();\n",
       "        // select the cell after this one\n",
       "        var index = IPython.notebook.find_cell_index(this.cell_info[0]);\n",
       "        IPython.notebook.select(index + 1);\n",
       "    }\n",
       "}\n",
       "\n",
       "mpl.figure.prototype.handle_save = function(fig, msg) {\n",
       "    fig.ondownload(fig, null);\n",
       "}\n",
       "\n",
       "\n",
       "mpl.find_output_cell = function(html_output) {\n",
       "    // Return the cell and output element which can be found *uniquely* in the notebook.\n",
       "    // Note - this is a bit hacky, but it is done because the \"notebook_saving.Notebook\"\n",
       "    // IPython event is triggered only after the cells have been serialised, which for\n",
       "    // our purposes (turning an active figure into a static one), is too late.\n",
       "    var cells = IPython.notebook.get_cells();\n",
       "    var ncells = cells.length;\n",
       "    for (var i=0; i<ncells; i++) {\n",
       "        var cell = cells[i];\n",
       "        if (cell.cell_type === 'code'){\n",
       "            for (var j=0; j<cell.output_area.outputs.length; j++) {\n",
       "                var data = cell.output_area.outputs[j];\n",
       "                if (data.data) {\n",
       "                    // IPython >= 3 moved mimebundle to data attribute of output\n",
       "                    data = data.data;\n",
       "                }\n",
       "                if (data['text/html'] == html_output) {\n",
       "                    return [cell, data, j];\n",
       "                }\n",
       "            }\n",
       "        }\n",
       "    }\n",
       "}\n",
       "\n",
       "// Register the function which deals with the matplotlib target/channel.\n",
       "// The kernel may be null if the page has been refreshed.\n",
       "if (IPython.notebook.kernel != null) {\n",
       "    IPython.notebook.kernel.comm_manager.register_target('matplotlib', mpl.mpl_figure_comm);\n",
       "}\n"
      ],
      "text/plain": [
       "<IPython.core.display.Javascript object>"
      ]
     },
     "metadata": {},
     "output_type": "display_data"
    },
    {
     "data": {
      "text/html": [
       "<img src=\"data:image/png;base64,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\" width=\"640\">"
      ],
      "text/plain": [
       "<IPython.core.display.HTML object>"
      ]
     },
     "metadata": {},
     "output_type": "display_data"
    }
   ],
   "source": [
    "# Use the following function to help visualize results from the grid search\n",
    "def GridSearch_Heatmap(scores):\n",
    "    %matplotlib notebook\n",
    "    import seaborn as sns\n",
    "    import matplotlib.pyplot as plt\n",
    "    plt.figure()\n",
    "    sns.heatmap(scores.reshape(5,2), xticklabels=['l1','l2'], yticklabels=[0.01, 0.1, 1, 10, 100])\n",
    "    plt.yticks(rotation=0);\n",
    "\n",
    "GridSearch_Heatmap(answer_six())"
   ]
  },
  {
   "cell_type": "code",
   "execution_count": null,
   "metadata": {},
   "outputs": [],
   "source": []
  }
 ],
 "metadata": {
  "coursera": {
   "course_slug": "python-machine-learning",
   "graded_item_id": "5yX9Z",
   "launcher_item_id": "eqnV3",
   "part_id": "Msnj0"
  },
  "kernelspec": {
   "display_name": "Python 3",
   "language": "python",
   "name": "python3"
  },
  "language_info": {
   "codemirror_mode": {
    "name": "ipython",
    "version": 3
   },
   "file_extension": ".py",
   "mimetype": "text/x-python",
   "name": "python",
   "nbconvert_exporter": "python",
   "pygments_lexer": "ipython3",
   "version": "3.8.3"
  }
 },
 "nbformat": 4,
 "nbformat_minor": 2
}
