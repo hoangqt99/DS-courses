{
 "cells": [
  {
   "cell_type": "markdown",
   "metadata": {},
   "source": [
    "---\n",
    "\n",
    "_You are currently looking at **version 1.1** of this notebook. To download notebooks and datafiles, as well as get help on Jupyter notebooks in the Coursera platform, visit the [Jupyter Notebook FAQ](https://www.coursera.org/learn/python-machine-learning/resources/bANLa) course resource._\n",
    "\n",
    "---"
   ]
  },
  {
   "cell_type": "markdown",
   "metadata": {},
   "source": []
  },
  {
   "cell_type": "markdown",
   "metadata": {},
   "source": [
    "# Assignment 4\n",
    "\n",
    "This assignment is based on a data challenge from the Michigan Data Science Team ([MDST](http://midas.umich.edu/mdst/)). \n",
    "\n",
    "The Michigan Data Science Team ([MDST](http://midas.umich.edu/mdst/)) and the Michigan Student Symposium for Interdisciplinary Statistical Sciences ([MSSISS](https://sites.lsa.umich.edu/mssiss/)) have partnered with the City of Detroit to help solve one of the most pressing problems facing Detroit - blight. [Blight violations](http://www.detroitmi.gov/How-Do-I/Report/Blight-Complaint-FAQs) are issued by the city to individuals who allow their properties to remain in a deteriorated condition. Every year, the city of Detroit issues millions of dollars in fines to residents and every year, many of these fines remain unpaid. Enforcing unpaid blight fines is a costly and tedious process, so the city wants to know: how can we increase blight ticket compliance?\n",
    "\n",
    "The first step in answering this question is understanding when and why a resident might fail to comply with a blight ticket. This is where predictive modeling comes in. For this assignment, your task is to predict whether a given blight ticket will be paid on time.\n",
    "\n",
    "All data for this assignment has been provided to us through the [Detroit Open Data Portal](https://data.detroitmi.gov/). **Only the data already included in your Coursera directory can be used for training the model for this assignment.** Nonetheless, we encourage you to look into data from other Detroit datasets to help inform feature creation and model selection. We recommend taking a look at the following related datasets:\n",
    "\n",
    "* [Building Permits](https://data.detroitmi.gov/Property-Parcels/Building-Permits/xw2a-a7tf)\n",
    "* [Trades Permits](https://data.detroitmi.gov/Property-Parcels/Trades-Permits/635b-dsgv)\n",
    "* [Improve Detroit: Submitted Issues](https://data.detroitmi.gov/Government/Improve-Detroit-Submitted-Issues/fwz3-w3yn)\n",
    "* [DPD: Citizen Complaints](https://data.detroitmi.gov/Public-Safety/DPD-Citizen-Complaints-2016/kahe-efs3)\n",
    "* [Parcel Map](https://data.detroitmi.gov/Property-Parcels/Parcel-Map/fxkw-udwf)\n",
    "\n",
    "___\n",
    "\n",
    "We provide you with two data files for use in training and validating your models: train.csv and test.csv. Each row in these two files corresponds to a single blight ticket, and includes information about when, why, and to whom each ticket was issued. The target variable is compliance, which is True if the ticket was paid early, on time, or within one month of the hearing data, False if the ticket was paid after the hearing date or not at all, and Null if the violator was found not responsible. Compliance, as well as a handful of other variables that will not be available at test-time, are only included in train.csv.\n",
    "\n",
    "Note: All tickets where the violators were found not responsible are not considered during evaluation. They are included in the training set as an additional source of data for visualization, and to enable unsupervised and semi-supervised approaches. However, they are not included in the test set.\n",
    "\n",
    "<br>\n",
    "\n",
    "**File descriptions** (Use only this data for training your model!)\n",
    "\n",
    "    readonly/train.csv - the training set (all tickets issued 2004-2011)\n",
    "    readonly/test.csv - the test set (all tickets issued 2012-2016)\n",
    "    readonly/addresses.csv & readonly/latlons.csv - mapping from ticket id to addresses, and from addresses to lat/lon coordinates. \n",
    "     Note: misspelled addresses may be incorrectly geolocated.\n",
    "\n",
    "<br>\n",
    "\n",
    "**Data fields**\n",
    "\n",
    "train.csv & test.csv\n",
    "\n",
    "    ticket_id - unique identifier for tickets\n",
    "    agency_name - Agency that issued the ticket\n",
    "    inspector_name - Name of inspector that issued the ticket\n",
    "    violator_name - Name of the person/organization that the ticket was issued to\n",
    "    violation_street_number, violation_street_name, violation_zip_code - Address where the violation occurred\n",
    "    mailing_address_str_number, mailing_address_str_name, city, state, zip_code, non_us_str_code, country - Mailing address of the violator\n",
    "    ticket_issued_date - Date and time the ticket was issued\n",
    "    hearing_date - Date and time the violator's hearing was scheduled\n",
    "    violation_code, violation_description - Type of violation\n",
    "    disposition - Judgment and judgement type\n",
    "    fine_amount - Violation fine amount, excluding fees\n",
    "    admin_fee - $20 fee assigned to responsible judgments\n",
    "state_fee - $10 fee assigned to responsible judgments\n",
    "    late_fee - 10% fee assigned to responsible judgments\n",
    "    discount_amount - discount applied, if any\n",
    "    clean_up_cost - DPW clean-up or graffiti removal cost\n",
    "    judgment_amount - Sum of all fines and fees\n",
    "    grafitti_status - Flag for graffiti violations\n",
    "    \n",
    "train.csv only\n",
    "\n",
    "    payment_amount - Amount paid, if any\n",
    "    payment_date - Date payment was made, if it was received\n",
    "    payment_status - Current payment status as of Feb 1 2017\n",
    "    balance_due - Fines and fees still owed\n",
    "    collection_status - Flag for payments in collections\n",
    "    compliance [target variable for prediction] \n",
    "     Null = Not responsible\n",
    "     0 = Responsible, non-compliant\n",
    "     1 = Responsible, compliant\n",
    "    compliance_detail - More information on why each ticket was marked compliant or non-compliant\n",
    "\n",
    "\n",
    "___\n",
    "\n",
    "## Evaluation\n",
    "\n",
    "Your predictions will be given as the probability that the corresponding blight ticket will be paid on time.\n",
    "\n",
    "The evaluation metric for this assignment is the Area Under the ROC Curve (AUC). \n",
    "\n",
    "Your grade will be based on the AUC score computed for your classifier. A model which with an AUROC of 0.7 passes this assignment, over 0.75 will recieve full points.\n",
    "___\n",
    "\n",
    "For this assignment, create a function that trains a model to predict blight ticket compliance in Detroit using `readonly/train.csv`. Using this model, return a series of length 61001 with the data being the probability that each corresponding ticket from `readonly/test.csv` will be paid, and the index being the ticket_id.\n",
    "\n",
    "Example:\n",
    "\n",
    "    ticket_id\n",
    "       284932    0.531842\n",
    "       285362    0.401958\n",
    "       285361    0.105928\n",
    "       285338    0.018572\n",
    "                 ...\n",
    "       376499    0.208567\n",
    "       376500    0.818759\n",
    "       369851    0.018528\n",
    "       Name: compliance, dtype: float32\n",
    "       \n",
    "### Hints\n",
    "\n",
    "* Make sure your code is working before submitting it to the autograder.\n",
    "\n",
    "* Print out your result to see whether there is anything weird (e.g., all probabilities are the same).\n",
    "\n",
    "* Generally the total runtime should be less than 10 mins. You should NOT use Neural Network related classifiers (e.g., MLPClassifier) in this question. \n",
    "\n",
    "* Try to avoid global variables. If you have other functions besides blight_model, you should move those functions inside the scope of blight_model.\n",
    "\n",
    "* Refer to the pinned threads in Week 4's discussion forum when there is something you could not figure it out."
   ]
  },
  {
   "cell_type": "code",
   "execution_count": 1,
   "metadata": {},
   "outputs": [],
   "source": [
    "import warnings\n",
    "warnings.filterwarnings(\"ignore\")"
   ]
  },
  {
   "cell_type": "code",
   "execution_count": 2,
   "metadata": {},
   "outputs": [],
   "source": [
    "import pandas as pd\n",
    "import numpy as np"
   ]
  },
  {
   "cell_type": "markdown",
   "metadata": {},
   "source": [
    "# read csv"
   ]
  },
  {
   "cell_type": "code",
   "execution_count": 3,
   "metadata": {
    "scrolled": true
   },
   "outputs": [
    {
     "data": {
      "text/html": [
       "<div>\n",
       "<style scoped>\n",
       "    .dataframe tbody tr th:only-of-type {\n",
       "        vertical-align: middle;\n",
       "    }\n",
       "\n",
       "    .dataframe tbody tr th {\n",
       "        vertical-align: top;\n",
       "    }\n",
       "\n",
       "    .dataframe thead th {\n",
       "        text-align: right;\n",
       "    }\n",
       "</style>\n",
       "<table border=\"1\" class=\"dataframe\">\n",
       "  <thead>\n",
       "    <tr style=\"text-align: right;\">\n",
       "      <th></th>\n",
       "      <th>ticket_id</th>\n",
       "      <th>agency_name</th>\n",
       "      <th>inspector_name</th>\n",
       "      <th>violator_name</th>\n",
       "      <th>violation_street_number</th>\n",
       "      <th>violation_street_name</th>\n",
       "      <th>violation_zip_code</th>\n",
       "      <th>mailing_address_str_number</th>\n",
       "      <th>mailing_address_str_name</th>\n",
       "      <th>city</th>\n",
       "      <th>...</th>\n",
       "      <th>clean_up_cost</th>\n",
       "      <th>judgment_amount</th>\n",
       "      <th>payment_amount</th>\n",
       "      <th>balance_due</th>\n",
       "      <th>payment_date</th>\n",
       "      <th>payment_status</th>\n",
       "      <th>collection_status</th>\n",
       "      <th>grafitti_status</th>\n",
       "      <th>compliance_detail</th>\n",
       "      <th>compliance</th>\n",
       "    </tr>\n",
       "  </thead>\n",
       "  <tbody>\n",
       "    <tr>\n",
       "      <th>0</th>\n",
       "      <td>22056</td>\n",
       "      <td>Buildings, Safety Engineering &amp; Env Department</td>\n",
       "      <td>Sims, Martinzie</td>\n",
       "      <td>INVESTMENT INC., MIDWEST MORTGAGE</td>\n",
       "      <td>2900.0</td>\n",
       "      <td>TYLER</td>\n",
       "      <td>NaN</td>\n",
       "      <td>3.0</td>\n",
       "      <td>S. WICKER</td>\n",
       "      <td>CHICAGO</td>\n",
       "      <td>...</td>\n",
       "      <td>0.0</td>\n",
       "      <td>305.0</td>\n",
       "      <td>0.0</td>\n",
       "      <td>305.0</td>\n",
       "      <td>NaN</td>\n",
       "      <td>NO PAYMENT APPLIED</td>\n",
       "      <td>NaN</td>\n",
       "      <td>NaN</td>\n",
       "      <td>non-compliant by no payment</td>\n",
       "      <td>0.0</td>\n",
       "    </tr>\n",
       "    <tr>\n",
       "      <th>1</th>\n",
       "      <td>27586</td>\n",
       "      <td>Buildings, Safety Engineering &amp; Env Department</td>\n",
       "      <td>Williams, Darrin</td>\n",
       "      <td>Michigan, Covenant House</td>\n",
       "      <td>4311.0</td>\n",
       "      <td>CENTRAL</td>\n",
       "      <td>NaN</td>\n",
       "      <td>2959.0</td>\n",
       "      <td>Martin Luther King</td>\n",
       "      <td>Detroit</td>\n",
       "      <td>...</td>\n",
       "      <td>0.0</td>\n",
       "      <td>855.0</td>\n",
       "      <td>780.0</td>\n",
       "      <td>75.0</td>\n",
       "      <td>2005-06-02 00:00:00</td>\n",
       "      <td>PAID IN FULL</td>\n",
       "      <td>NaN</td>\n",
       "      <td>NaN</td>\n",
       "      <td>compliant by late payment within 1 month</td>\n",
       "      <td>1.0</td>\n",
       "    </tr>\n",
       "  </tbody>\n",
       "</table>\n",
       "<p>2 rows × 34 columns</p>\n",
       "</div>"
      ],
      "text/plain": [
       "   ticket_id                                     agency_name  \\\n",
       "0      22056  Buildings, Safety Engineering & Env Department   \n",
       "1      27586  Buildings, Safety Engineering & Env Department   \n",
       "\n",
       "     inspector_name                      violator_name  \\\n",
       "0   Sims, Martinzie  INVESTMENT INC., MIDWEST MORTGAGE   \n",
       "1  Williams, Darrin           Michigan, Covenant House   \n",
       "\n",
       "   violation_street_number violation_street_name  violation_zip_code  \\\n",
       "0                   2900.0                 TYLER                 NaN   \n",
       "1                   4311.0               CENTRAL                 NaN   \n",
       "\n",
       "   mailing_address_str_number mailing_address_str_name     city  ...  \\\n",
       "0                         3.0                S. WICKER  CHICAGO  ...   \n",
       "1                      2959.0       Martin Luther King  Detroit  ...   \n",
       "\n",
       "  clean_up_cost judgment_amount payment_amount balance_due  \\\n",
       "0           0.0           305.0            0.0       305.0   \n",
       "1           0.0           855.0          780.0        75.0   \n",
       "\n",
       "          payment_date      payment_status collection_status grafitti_status  \\\n",
       "0                  NaN  NO PAYMENT APPLIED               NaN             NaN   \n",
       "1  2005-06-02 00:00:00        PAID IN FULL               NaN             NaN   \n",
       "\n",
       "                          compliance_detail  compliance  \n",
       "0               non-compliant by no payment         0.0  \n",
       "1  compliant by late payment within 1 month         1.0  \n",
       "\n",
       "[2 rows x 34 columns]"
      ]
     },
     "execution_count": 3,
     "metadata": {},
     "output_type": "execute_result"
    }
   ],
   "source": [
    "train_df = pd.read_csv('Data/train_assgiment4.csv',encoding='ISO-8859-1')\n",
    "train_df.head(2)"
   ]
  },
  {
   "cell_type": "code",
   "execution_count": 4,
   "metadata": {},
   "outputs": [
    {
     "data": {
      "text/plain": [
       "(250306, 34)"
      ]
     },
     "execution_count": 4,
     "metadata": {},
     "output_type": "execute_result"
    }
   ],
   "source": [
    "train_df.shape"
   ]
  },
  {
   "cell_type": "code",
   "execution_count": 5,
   "metadata": {
    "scrolled": false
   },
   "outputs": [
    {
     "data": {
      "text/plain": [
       "ticket_id                          0\n",
       "agency_name                        0\n",
       "inspector_name                     0\n",
       "violator_name                     34\n",
       "violation_street_number            0\n",
       "violation_street_name              0\n",
       "violation_zip_code            250306\n",
       "mailing_address_str_number      3602\n",
       "mailing_address_str_name           4\n",
       "city                               0\n",
       "state                             93\n",
       "zip_code                           1\n",
       "non_us_str_code               250303\n",
       "country                            0\n",
       "ticket_issued_date                 0\n",
       "hearing_date                   12491\n",
       "violation_code                     0\n",
       "violation_description              0\n",
       "disposition                        0\n",
       "fine_amount                        1\n",
       "admin_fee                          0\n",
       "state_fee                          0\n",
       "late_fee                           0\n",
       "discount_amount                    0\n",
       "clean_up_cost                      0\n",
       "judgment_amount                    0\n",
       "payment_amount                     0\n",
       "balance_due                        0\n",
       "payment_date                  209193\n",
       "payment_status                     0\n",
       "collection_status             213409\n",
       "grafitti_status               250305\n",
       "compliance_detail                  0\n",
       "compliance                     90426\n",
       "dtype: int64"
      ]
     },
     "execution_count": 5,
     "metadata": {},
     "output_type": "execute_result"
    }
   ],
   "source": [
    "train_df.isna().sum()"
   ]
  },
  {
   "cell_type": "code",
   "execution_count": 6,
   "metadata": {},
   "outputs": [],
   "source": [
    "train_df.set_index('ticket_id', inplace = True)"
   ]
  },
  {
   "cell_type": "code",
   "execution_count": 7,
   "metadata": {
    "scrolled": true
   },
   "outputs": [
    {
     "data": {
      "text/plain": [
       "(159880, 33)"
      ]
     },
     "execution_count": 7,
     "metadata": {},
     "output_type": "execute_result"
    }
   ],
   "source": [
    "# xoa gia tri thieu output\n",
    "train_df = train_df.dropna(subset = ['compliance'])\n",
    "train_df.shape"
   ]
  },
  {
   "cell_type": "markdown",
   "metadata": {},
   "source": [
    "## Kiểm tra dữ liệu bị lặp"
   ]
  },
  {
   "cell_type": "code",
   "execution_count": 8,
   "metadata": {},
   "outputs": [
    {
     "data": {
      "text/plain": [
       "1151"
      ]
     },
     "execution_count": 8,
     "metadata": {},
     "output_type": "execute_result"
    }
   ],
   "source": [
    "train_df.duplicated().sum()"
   ]
  },
  {
   "cell_type": "code",
   "execution_count": 9,
   "metadata": {
    "scrolled": true
   },
   "outputs": [
    {
     "data": {
      "text/plain": [
       "(158729, 33)"
      ]
     },
     "execution_count": 9,
     "metadata": {},
     "output_type": "execute_result"
    }
   ],
   "source": [
    "train_df = train_df[~train_df.duplicated()]\n",
    "train_df.shape"
   ]
  },
  {
   "cell_type": "markdown",
   "metadata": {},
   "source": [
    "# xoa dong missing value"
   ]
  },
  {
   "cell_type": "code",
   "execution_count": 10,
   "metadata": {
    "scrolled": false
   },
   "outputs": [
    {
     "data": {
      "text/plain": [
       "(158729, 28)"
      ]
     },
     "execution_count": 10,
     "metadata": {},
     "output_type": "execute_result"
    }
   ],
   "source": [
    "thresold = 1e5\n",
    "a = train_df.isna().sum()\n",
    "drop_columns = a[a>thresold].index\n",
    "train_df = train_df.drop(columns = drop_columns,axis=1)\n",
    "train_df.shape"
   ]
  },
  {
   "cell_type": "code",
   "execution_count": 11,
   "metadata": {
    "scrolled": true
   },
   "outputs": [
    {
     "data": {
      "text/plain": [
       "2551"
      ]
     },
     "execution_count": 11,
     "metadata": {},
     "output_type": "execute_result"
    }
   ],
   "source": [
    "train_df.isna().sum().max()"
   ]
  },
  {
   "cell_type": "code",
   "execution_count": 12,
   "metadata": {
    "scrolled": true
   },
   "outputs": [
    {
     "data": {
      "text/html": [
       "<div>\n",
       "<style scoped>\n",
       "    .dataframe tbody tr th:only-of-type {\n",
       "        vertical-align: middle;\n",
       "    }\n",
       "\n",
       "    .dataframe tbody tr th {\n",
       "        vertical-align: top;\n",
       "    }\n",
       "\n",
       "    .dataframe thead th {\n",
       "        text-align: right;\n",
       "    }\n",
       "</style>\n",
       "<table border=\"1\" class=\"dataframe\">\n",
       "  <thead>\n",
       "    <tr style=\"text-align: right;\">\n",
       "      <th></th>\n",
       "      <th>violation_street_number</th>\n",
       "      <th>mailing_address_str_number</th>\n",
       "      <th>fine_amount</th>\n",
       "      <th>admin_fee</th>\n",
       "      <th>state_fee</th>\n",
       "      <th>late_fee</th>\n",
       "      <th>discount_amount</th>\n",
       "      <th>clean_up_cost</th>\n",
       "      <th>judgment_amount</th>\n",
       "      <th>payment_amount</th>\n",
       "      <th>balance_due</th>\n",
       "      <th>compliance</th>\n",
       "    </tr>\n",
       "  </thead>\n",
       "  <tbody>\n",
       "    <tr>\n",
       "      <th>count</th>\n",
       "      <td>1.587290e+05</td>\n",
       "      <td>1.561780e+05</td>\n",
       "      <td>158729.000000</td>\n",
       "      <td>158729.0</td>\n",
       "      <td>158729.0</td>\n",
       "      <td>158729.000000</td>\n",
       "      <td>158729.000000</td>\n",
       "      <td>158729.0</td>\n",
       "      <td>158729.000000</td>\n",
       "      <td>158729.000000</td>\n",
       "      <td>158729.000000</td>\n",
       "      <td>158729.000000</td>\n",
       "    </tr>\n",
       "    <tr>\n",
       "      <th>mean</th>\n",
       "      <td>1.071050e+04</td>\n",
       "      <td>9.139207e+03</td>\n",
       "      <td>357.991627</td>\n",
       "      <td>20.0</td>\n",
       "      <td>10.0</td>\n",
       "      <td>33.736770</td>\n",
       "      <td>0.196939</td>\n",
       "      <td>0.0</td>\n",
       "      <td>421.693054</td>\n",
       "      <td>72.553360</td>\n",
       "      <td>348.958430</td>\n",
       "      <td>0.072677</td>\n",
       "    </tr>\n",
       "    <tr>\n",
       "      <th>std</th>\n",
       "      <td>3.635841e+04</td>\n",
       "      <td>3.669310e+04</td>\n",
       "      <td>677.655488</td>\n",
       "      <td>0.0</td>\n",
       "      <td>0.0</td>\n",
       "      <td>67.894807</td>\n",
       "      <td>4.304871</td>\n",
       "      <td>0.0</td>\n",
       "      <td>744.753605</td>\n",
       "      <td>260.628896</td>\n",
       "      <td>731.481077</td>\n",
       "      <td>0.259607</td>\n",
       "    </tr>\n",
       "    <tr>\n",
       "      <th>min</th>\n",
       "      <td>0.000000e+00</td>\n",
       "      <td>1.000000e+00</td>\n",
       "      <td>0.000000</td>\n",
       "      <td>20.0</td>\n",
       "      <td>10.0</td>\n",
       "      <td>0.000000</td>\n",
       "      <td>0.000000</td>\n",
       "      <td>0.0</td>\n",
       "      <td>0.000000</td>\n",
       "      <td>0.000000</td>\n",
       "      <td>-7750.000000</td>\n",
       "      <td>0.000000</td>\n",
       "    </tr>\n",
       "    <tr>\n",
       "      <th>25%</th>\n",
       "      <td>4.920000e+03</td>\n",
       "      <td>5.280000e+02</td>\n",
       "      <td>200.000000</td>\n",
       "      <td>20.0</td>\n",
       "      <td>10.0</td>\n",
       "      <td>10.000000</td>\n",
       "      <td>0.000000</td>\n",
       "      <td>0.0</td>\n",
       "      <td>250.000000</td>\n",
       "      <td>0.000000</td>\n",
       "      <td>85.000000</td>\n",
       "      <td>0.000000</td>\n",
       "    </tr>\n",
       "    <tr>\n",
       "      <th>50%</th>\n",
       "      <td>1.036000e+04</td>\n",
       "      <td>2.415000e+03</td>\n",
       "      <td>250.000000</td>\n",
       "      <td>20.0</td>\n",
       "      <td>10.0</td>\n",
       "      <td>25.000000</td>\n",
       "      <td>0.000000</td>\n",
       "      <td>0.0</td>\n",
       "      <td>305.000000</td>\n",
       "      <td>0.000000</td>\n",
       "      <td>305.000000</td>\n",
       "      <td>0.000000</td>\n",
       "    </tr>\n",
       "    <tr>\n",
       "      <th>75%</th>\n",
       "      <td>1.577900e+04</td>\n",
       "      <td>1.283800e+04</td>\n",
       "      <td>250.000000</td>\n",
       "      <td>20.0</td>\n",
       "      <td>10.0</td>\n",
       "      <td>25.000000</td>\n",
       "      <td>0.000000</td>\n",
       "      <td>0.0</td>\n",
       "      <td>305.000000</td>\n",
       "      <td>0.000000</td>\n",
       "      <td>305.000000</td>\n",
       "      <td>0.000000</td>\n",
       "    </tr>\n",
       "    <tr>\n",
       "      <th>max</th>\n",
       "      <td>1.415411e+07</td>\n",
       "      <td>5.111345e+06</td>\n",
       "      <td>10000.000000</td>\n",
       "      <td>20.0</td>\n",
       "      <td>10.0</td>\n",
       "      <td>1000.000000</td>\n",
       "      <td>350.000000</td>\n",
       "      <td>0.0</td>\n",
       "      <td>11030.000000</td>\n",
       "      <td>11030.000000</td>\n",
       "      <td>11030.000000</td>\n",
       "      <td>1.000000</td>\n",
       "    </tr>\n",
       "  </tbody>\n",
       "</table>\n",
       "</div>"
      ],
      "text/plain": [
       "       violation_street_number  mailing_address_str_number    fine_amount  \\\n",
       "count             1.587290e+05                1.561780e+05  158729.000000   \n",
       "mean              1.071050e+04                9.139207e+03     357.991627   \n",
       "std               3.635841e+04                3.669310e+04     677.655488   \n",
       "min               0.000000e+00                1.000000e+00       0.000000   \n",
       "25%               4.920000e+03                5.280000e+02     200.000000   \n",
       "50%               1.036000e+04                2.415000e+03     250.000000   \n",
       "75%               1.577900e+04                1.283800e+04     250.000000   \n",
       "max               1.415411e+07                5.111345e+06   10000.000000   \n",
       "\n",
       "       admin_fee  state_fee       late_fee  discount_amount  clean_up_cost  \\\n",
       "count   158729.0   158729.0  158729.000000    158729.000000       158729.0   \n",
       "mean        20.0       10.0      33.736770         0.196939            0.0   \n",
       "std          0.0        0.0      67.894807         4.304871            0.0   \n",
       "min         20.0       10.0       0.000000         0.000000            0.0   \n",
       "25%         20.0       10.0      10.000000         0.000000            0.0   \n",
       "50%         20.0       10.0      25.000000         0.000000            0.0   \n",
       "75%         20.0       10.0      25.000000         0.000000            0.0   \n",
       "max         20.0       10.0    1000.000000       350.000000            0.0   \n",
       "\n",
       "       judgment_amount  payment_amount    balance_due     compliance  \n",
       "count    158729.000000   158729.000000  158729.000000  158729.000000  \n",
       "mean        421.693054       72.553360     348.958430       0.072677  \n",
       "std         744.753605      260.628896     731.481077       0.259607  \n",
       "min           0.000000        0.000000   -7750.000000       0.000000  \n",
       "25%         250.000000        0.000000      85.000000       0.000000  \n",
       "50%         305.000000        0.000000     305.000000       0.000000  \n",
       "75%         305.000000        0.000000     305.000000       0.000000  \n",
       "max       11030.000000    11030.000000   11030.000000       1.000000  "
      ]
     },
     "execution_count": 12,
     "metadata": {},
     "output_type": "execute_result"
    }
   ],
   "source": [
    "type_number_df = train_df.select_dtypes(exclude = 'object')\n",
    "type_number_df.describe()"
   ]
  },
  {
   "cell_type": "code",
   "execution_count": 17,
   "metadata": {
    "scrolled": true
   },
   "outputs": [
    {
     "data": {
      "text/html": [
       "<div>\n",
       "<style scoped>\n",
       "    .dataframe tbody tr th:only-of-type {\n",
       "        vertical-align: middle;\n",
       "    }\n",
       "\n",
       "    .dataframe tbody tr th {\n",
       "        vertical-align: top;\n",
       "    }\n",
       "\n",
       "    .dataframe thead th {\n",
       "        text-align: right;\n",
       "    }\n",
       "</style>\n",
       "<table border=\"1\" class=\"dataframe\">\n",
       "  <thead>\n",
       "    <tr style=\"text-align: right;\">\n",
       "      <th></th>\n",
       "      <th>agency_name</th>\n",
       "      <th>inspector_name</th>\n",
       "      <th>violator_name</th>\n",
       "      <th>violation_street_name</th>\n",
       "      <th>mailing_address_str_name</th>\n",
       "      <th>city</th>\n",
       "      <th>state</th>\n",
       "      <th>zip_code</th>\n",
       "      <th>country</th>\n",
       "      <th>ticket_issued_date</th>\n",
       "      <th>hearing_date</th>\n",
       "      <th>violation_code</th>\n",
       "      <th>violation_description</th>\n",
       "      <th>disposition</th>\n",
       "      <th>payment_status</th>\n",
       "      <th>compliance_detail</th>\n",
       "    </tr>\n",
       "  </thead>\n",
       "  <tbody>\n",
       "    <tr>\n",
       "      <th>missing_ratio</th>\n",
       "      <td>0</td>\n",
       "      <td>0</td>\n",
       "      <td>0.0163801</td>\n",
       "      <td>0</td>\n",
       "      <td>0.00189001</td>\n",
       "      <td>0</td>\n",
       "      <td>0.0529204</td>\n",
       "      <td>0.000630005</td>\n",
       "      <td>0</td>\n",
       "      <td>0</td>\n",
       "      <td>0.140491</td>\n",
       "      <td>0</td>\n",
       "      <td>0</td>\n",
       "      <td>0</td>\n",
       "      <td>0</td>\n",
       "      <td>0</td>\n",
       "    </tr>\n",
       "    <tr>\n",
       "      <th>num_diff_vals</th>\n",
       "      <td>5</td>\n",
       "      <td>159</td>\n",
       "      <td>84656</td>\n",
       "      <td>1716</td>\n",
       "      <td>28440</td>\n",
       "      <td>4093</td>\n",
       "      <td>59</td>\n",
       "      <td>4622</td>\n",
       "      <td>5</td>\n",
       "      <td>68097</td>\n",
       "      <td>5970</td>\n",
       "      <td>189</td>\n",
       "      <td>207</td>\n",
       "      <td>4</td>\n",
       "      <td>3</td>\n",
       "      <td>8</td>\n",
       "    </tr>\n",
       "    <tr>\n",
       "      <th>value_ratios</th>\n",
       "      <td>{'Buildings, Safety Engineering &amp; Env Departme...</td>\n",
       "      <td>{'Morris, John': 11586, 'Samaan, Neil J': 8478...</td>\n",
       "      <td>{'INVESTMENT, ACORN': 620, 'INVESTMENT CO., AC...</td>\n",
       "      <td>{'SEVEN MILE': 2370, 'MCNICHOLS': 2113, 'LIVER...</td>\n",
       "      <td>{'PO BOX': 5692, 'P.O. BOX': 4698, 'GRAND RIVE...</td>\n",
       "      <td>{'DETROIT': 86707, 'SOUTHFIELD': 8745, 'Detroi...</td>\n",
       "      <td>{'MI': 142550, 'CA': 3812, 'TX': 1946, 'FL': 1...</td>\n",
       "      <td>{'48221': 4478, '48227': 4415, '48235': 4257, ...</td>\n",
       "      <td>{'USA': 158718, 'Cana': 6, 'Egyp': 2, 'Aust': ...</td>\n",
       "      <td>{'2007-12-21 09:00:00': 59, '2010-02-17 09:00:...</td>\n",
       "      <td>{'2005-12-20 09:00:00': 589, '2005-12-22 10:30...</td>\n",
       "      <td>{'9-1-36(a)': 64311, '9-1-81(a)': 23094, '22-2...</td>\n",
       "      <td>{'Failure of owner to obtain certificate of co...</td>\n",
       "      <td>{'Responsible by Default': 137325, 'Responsibl...</td>\n",
       "      <td>{'NO PAYMENT APPLIED': 119288, 'PAID IN FULL':...</td>\n",
       "      <td>{'non-compliant by no payment': 128269, 'non-c...</td>\n",
       "    </tr>\n",
       "  </tbody>\n",
       "</table>\n",
       "</div>"
      ],
      "text/plain": [
       "                                                     agency_name  \\\n",
       "missing_ratio                                                  0   \n",
       "num_diff_vals                                                  5   \n",
       "value_ratios   {'Buildings, Safety Engineering & Env Departme...   \n",
       "\n",
       "                                                  inspector_name  \\\n",
       "missing_ratio                                                  0   \n",
       "num_diff_vals                                                159   \n",
       "value_ratios   {'Morris, John': 11586, 'Samaan, Neil J': 8478...   \n",
       "\n",
       "                                                   violator_name  \\\n",
       "missing_ratio                                          0.0163801   \n",
       "num_diff_vals                                              84656   \n",
       "value_ratios   {'INVESTMENT, ACORN': 620, 'INVESTMENT CO., AC...   \n",
       "\n",
       "                                           violation_street_name  \\\n",
       "missing_ratio                                                  0   \n",
       "num_diff_vals                                               1716   \n",
       "value_ratios   {'SEVEN MILE': 2370, 'MCNICHOLS': 2113, 'LIVER...   \n",
       "\n",
       "                                        mailing_address_str_name  \\\n",
       "missing_ratio                                         0.00189001   \n",
       "num_diff_vals                                              28440   \n",
       "value_ratios   {'PO BOX': 5692, 'P.O. BOX': 4698, 'GRAND RIVE...   \n",
       "\n",
       "                                                            city  \\\n",
       "missing_ratio                                                  0   \n",
       "num_diff_vals                                               4093   \n",
       "value_ratios   {'DETROIT': 86707, 'SOUTHFIELD': 8745, 'Detroi...   \n",
       "\n",
       "                                                           state  \\\n",
       "missing_ratio                                          0.0529204   \n",
       "num_diff_vals                                                 59   \n",
       "value_ratios   {'MI': 142550, 'CA': 3812, 'TX': 1946, 'FL': 1...   \n",
       "\n",
       "                                                        zip_code  \\\n",
       "missing_ratio                                        0.000630005   \n",
       "num_diff_vals                                               4622   \n",
       "value_ratios   {'48221': 4478, '48227': 4415, '48235': 4257, ...   \n",
       "\n",
       "                                                         country  \\\n",
       "missing_ratio                                                  0   \n",
       "num_diff_vals                                                  5   \n",
       "value_ratios   {'USA': 158718, 'Cana': 6, 'Egyp': 2, 'Aust': ...   \n",
       "\n",
       "                                              ticket_issued_date  \\\n",
       "missing_ratio                                                  0   \n",
       "num_diff_vals                                              68097   \n",
       "value_ratios   {'2007-12-21 09:00:00': 59, '2010-02-17 09:00:...   \n",
       "\n",
       "                                                    hearing_date  \\\n",
       "missing_ratio                                           0.140491   \n",
       "num_diff_vals                                               5970   \n",
       "value_ratios   {'2005-12-20 09:00:00': 589, '2005-12-22 10:30...   \n",
       "\n",
       "                                                  violation_code  \\\n",
       "missing_ratio                                                  0   \n",
       "num_diff_vals                                                189   \n",
       "value_ratios   {'9-1-36(a)': 64311, '9-1-81(a)': 23094, '22-2...   \n",
       "\n",
       "                                           violation_description  \\\n",
       "missing_ratio                                                  0   \n",
       "num_diff_vals                                                207   \n",
       "value_ratios   {'Failure of owner to obtain certificate of co...   \n",
       "\n",
       "                                                     disposition  \\\n",
       "missing_ratio                                                  0   \n",
       "num_diff_vals                                                  4   \n",
       "value_ratios   {'Responsible by Default': 137325, 'Responsibl...   \n",
       "\n",
       "                                                  payment_status  \\\n",
       "missing_ratio                                                  0   \n",
       "num_diff_vals                                                  3   \n",
       "value_ratios   {'NO PAYMENT APPLIED': 119288, 'PAID IN FULL':...   \n",
       "\n",
       "                                               compliance_detail  \n",
       "missing_ratio                                                  0  \n",
       "num_diff_vals                                                  8  \n",
       "value_ratios   {'non-compliant by no payment': 128269, 'non-c...  "
      ]
     },
     "execution_count": 17,
     "metadata": {},
     "output_type": "execute_result"
    }
   ],
   "source": [
    "df_categorical = train_df.select_dtypes(include = 'object')\n",
    "def missing_ratio(series):\n",
    "    return series.isna().mean() * 100\n",
    "def num_diff_vals(series):\n",
    "    return series.nunique()\n",
    "def value_ratios(series):\n",
    "    return dict((series.value_counts()))\n",
    "cate_col_profiles_df = df_categorical.agg([missing_ratio,num_diff_vals,value_ratios])\n",
    "cate_col_profiles_df"
   ]
  },
  {
   "cell_type": "code",
   "execution_count": 18,
   "metadata": {},
   "outputs": [
    {
     "data": {
      "text/plain": [
       "agency_name                    object\n",
       "inspector_name                 object\n",
       "violator_name                  object\n",
       "violation_street_number       float64\n",
       "violation_street_name          object\n",
       "mailing_address_str_number    float64\n",
       "mailing_address_str_name       object\n",
       "city                           object\n",
       "state                          object\n",
       "zip_code                       object\n",
       "country                        object\n",
       "ticket_issued_date             object\n",
       "hearing_date                   object\n",
       "violation_code                 object\n",
       "violation_description          object\n",
       "disposition                    object\n",
       "fine_amount                   float64\n",
       "admin_fee                     float64\n",
       "state_fee                     float64\n",
       "late_fee                      float64\n",
       "discount_amount               float64\n",
       "clean_up_cost                 float64\n",
       "judgment_amount               float64\n",
       "payment_amount                float64\n",
       "balance_due                   float64\n",
       "payment_status                 object\n",
       "compliance_detail              object\n",
       "compliance                    float64\n",
       "dtype: object"
      ]
     },
     "execution_count": 18,
     "metadata": {},
     "output_type": "execute_result"
    }
   ],
   "source": [
    "train_df.dtypes"
   ]
  },
  {
   "cell_type": "code",
   "execution_count": 13,
   "metadata": {},
   "outputs": [],
   "source": [
    "import pandas as pd\n",
    "import numpy as np\n",
    "\n",
    "def blight_model():\n",
    "    \n",
    "    # Your code here\n",
    "    \n",
    "    return # Your answer here"
   ]
  },
  {
   "cell_type": "code",
   "execution_count": 14,
   "metadata": {},
   "outputs": [],
   "source": [
    "blight_model()"
   ]
  }
 ],
 "metadata": {
  "coursera": {
   "course_slug": "python-machine-learning",
   "graded_item_id": "nNS8l",
   "launcher_item_id": "yWWk7",
   "part_id": "w8BSS"
  },
  "kernelspec": {
   "display_name": "Python 3",
   "language": "python",
   "name": "python3"
  },
  "language_info": {
   "codemirror_mode": {
    "name": "ipython",
    "version": 3
   },
   "file_extension": ".py",
   "mimetype": "text/x-python",
   "name": "python",
   "nbconvert_exporter": "python",
   "pygments_lexer": "ipython3",
   "version": "3.8.3"
  }
 },
 "nbformat": 4,
 "nbformat_minor": 2
}
