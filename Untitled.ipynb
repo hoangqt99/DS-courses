{
 "cells": [
  {
   "cell_type": "markdown",
   "metadata": {},
   "source": [
    "# Phương pháp Runge-Kutta"
   ]
  },
  {
   "cell_type": "code",
   "execution_count": 10,
   "metadata": {},
   "outputs": [],
   "source": [
    "import math"
   ]
  },
  {
   "cell_type": "code",
   "execution_count": 9,
   "metadata": {},
   "outputs": [
    {
     "name": "stdout",
     "output_type": "stream",
     "text": [
      "k1 =   5 * (0.02*6.0715 - 0.01*5)    = 0.3572\n",
      "****\n",
      "k2 =   5 * (0.02*6.250100000000001 - 0.01*7.5)    = 0.25\n",
      "****\n",
      "k3 =   5 * (0.02*6.214300000000001 - 0.01*10)    = 0.1214\n",
      "****\n",
      "y1  = 6.0715 + 1/6*(0.3572 + 4*0.25 + 0.1214) = 6.3179\n",
      "---------------------------------------------------------\n",
      "k1 =   5 * (0.02*6.3179 - 0.01*10)    = 0.1318\n",
      "****\n",
      "k2 =   5 * (0.02*6.3838 - 0.01*12.5)    = 0.0134\n",
      "****\n",
      "k3 =   5 * (0.02*6.212899999999999 - 0.01*15)    = -0.1287\n",
      "****\n",
      "y2  = 6.3179 + 1/6*(0.1318 + 4*0.0134 + -0.1287) = 6.3274\n",
      "---------------------------------------------------------\n"
     ]
    }
   ],
   "source": [
    "def f(x,y):\n",
    "    print(f'{h1} * (0.02*{y} - 0.01*{x})', end = ' ') # chỉnh lại print\n",
    "    return 0.02*y - 0.01*x  # viết lại hàm\n",
    "\n",
    "x_s = [5,10] # sửa\n",
    "y_s = [6.0715] # sửa\n",
    "\n",
    "# khong sử  \n",
    "h1 = x_s[1] - x_s[0]\n",
    "# khong sua\n",
    "for i in range(len(x_s)): \n",
    "    print('k1 =  ',end= ' ')\n",
    "    k1 = round( h1 * f(x_s[i],y_s[i]) , 4 )\n",
    "    print(f'   = {k1}')\n",
    "    print('****')\n",
    "    print('k2 =  ',end= ' ')\n",
    "    k2 = round( h1*f(x_s[i]+ 1/2*h1 , y_s[i] + 1/2*k1) , 4)\n",
    "    print(f'   = {k2}')\n",
    "    print('****')\n",
    "    print('k3 =  ',end= ' ')\n",
    "    k3 = round (h1*f(x_s[i]+h1,y_s[i]-k1+2*k2), 4)\n",
    "    print(f'   = {k3}')\n",
    "    y = round(y_s[i] + 1/6 * (k1 + 4 * k2 + k3) ,4)\n",
    "    print('****')\n",
    "    print(f'y{i+1}  = {y_s[i]} + 1/6*({k1} + 4*{k2} + {k3}) = {y}')\n",
    "    print('---------------------------------------------------------')\n",
    "    y_s.append(y)"
   ]
  },
  {
   "cell_type": "markdown",
   "metadata": {},
   "source": [
    "# Phương pháp euler cải tiến 2 hàm"
   ]
  },
  {
   "cell_type": "code",
   "execution_count": 7,
   "metadata": {},
   "outputs": [
    {
     "name": "stdout",
     "output_type": "stream",
     "text": [
      "y_not1 = 288.0\n",
      "z_not1 = 24.0\n",
      "y_1 = 281.378\n",
      "z_1 = 24.142\n",
      "-------------------------\n",
      "y_not2 = 256.2373\n",
      "z_not2 = 28.1313\n",
      "y_2 = 251.2816\n",
      "z_2 = 27.7787\n",
      "-------------------------\n",
      "y_not3 = 217.9746\n",
      "z_not3 = 30.7478\n",
      "y_3 = 216.3621\n",
      "z_3 = 29.9059\n",
      "-------------------------\n"
     ]
    }
   ],
   "source": [
    "def f1(y,z, t= None):\n",
    "    #print(f'{h1} * (0.02*{y} - 0.03*{x})', end = ' ') # chỉnh lại print\n",
    "    return 0.1*y - 0.006*z*y + 0.05*t   # viết lại hàm\n",
    "def f2(y,z, t= None):\n",
    "    #print(f'{h1} * (0.02*{y} - 0.03*{x})', end = ' ') # chỉnh lại print\n",
    "    return -0.2*z + 0.001*z*y + 0.03*t  # viết lại hàm\n",
    "\n",
    "x_s = [0,2,4] # sửa\n",
    "h1 = x_s[1] - x_s[0]\n",
    "y1 = [300] # sửa\n",
    "z1 = [20]  # sửa\n",
    "\n",
    "# khong sua\n",
    "for i in range(len(x_s)):\n",
    "    y_1 = round( y1[i] + h1*f1(y1[i], z1[i],i),4)\n",
    "    print(f'y_not{i+1} = {y_1}')\n",
    "    z_1 = round( z1[i] + h1* f2(y1[i], z1[i],i) ,4)\n",
    "    print(f'z_not{i+1} = {z_1}')\n",
    "    y_next = round( y1[i] + h1/2*( f1(y1[i],z1[i],i) + f1(y_1,z_1,i+1) ), 4)\n",
    "    print(f'y_{i+1} = {y_next}')\n",
    "    y1.append(y_next)\n",
    "    z_next = round( z1[i] + h1/2*( f2(y1[i],z1[i],i) + f2(y_1,z_1,i+1) ), 4)\n",
    "    print(f'z_{i+1} = {z_next}')\n",
    "    z1.append(z_next)\n",
    "    print('-------------------------')"
   ]
  },
  {
   "cell_type": "markdown",
   "metadata": {},
   "source": [
    "# Phương pháp euler cải tiến 1 hàm"
   ]
  },
  {
   "cell_type": "code",
   "execution_count": 7,
   "metadata": {},
   "outputs": [
    {
     "name": "stdout",
     "output_type": "stream",
     "text": [
      "y_not1 = 1.1\n",
      "y_1 = 1.11\n",
      "-------------------------\n",
      "y_not2 = 1.231\n",
      "y_2 = 1.2421\n",
      "-------------------------\n",
      "y_not3 = 1.3863\n",
      "y_3 = 1.3985\n",
      "-------------------------\n",
      "y_not4 = 1.5684\n",
      "y_4 = 1.5818\n",
      "-------------------------\n",
      "y_not5 = 1.78\n"
     ]
    },
    {
     "ename": "IndexError",
     "evalue": "list index out of range",
     "output_type": "error",
     "traceback": [
      "\u001b[0;31m---------------------------------------------------------------------------\u001b[0m",
      "\u001b[0;31mIndexError\u001b[0m                                Traceback (most recent call last)",
      "\u001b[0;32m<ipython-input-7-ad0053e373f8>\u001b[0m in \u001b[0;36m<module>\u001b[0;34m\u001b[0m\n\u001b[1;32m     12\u001b[0m     \u001b[0mprint\u001b[0m\u001b[0;34m(\u001b[0m\u001b[0;34mf'y_not{i+1} = {y_1}'\u001b[0m\u001b[0;34m)\u001b[0m\u001b[0;34m\u001b[0m\u001b[0;34m\u001b[0m\u001b[0m\n\u001b[1;32m     13\u001b[0m \u001b[0;34m\u001b[0m\u001b[0m\n\u001b[0;32m---> 14\u001b[0;31m     \u001b[0my_next\u001b[0m \u001b[0;34m=\u001b[0m \u001b[0mround\u001b[0m\u001b[0;34m(\u001b[0m \u001b[0my1\u001b[0m\u001b[0;34m[\u001b[0m\u001b[0mi\u001b[0m\u001b[0;34m]\u001b[0m \u001b[0;34m+\u001b[0m \u001b[0mh1\u001b[0m\u001b[0;34m/\u001b[0m\u001b[0;36m2\u001b[0m\u001b[0;34m*\u001b[0m\u001b[0;34m(\u001b[0m\u001b[0mf\u001b[0m\u001b[0;34m(\u001b[0m\u001b[0mx_s\u001b[0m\u001b[0;34m[\u001b[0m\u001b[0mi\u001b[0m\u001b[0;34m]\u001b[0m\u001b[0;34m,\u001b[0m\u001b[0my1\u001b[0m\u001b[0;34m[\u001b[0m\u001b[0mi\u001b[0m\u001b[0;34m]\u001b[0m\u001b[0;34m)\u001b[0m \u001b[0;34m+\u001b[0m \u001b[0mf\u001b[0m\u001b[0;34m(\u001b[0m\u001b[0mx_s\u001b[0m\u001b[0;34m[\u001b[0m\u001b[0mi\u001b[0m\u001b[0;34m+\u001b[0m\u001b[0;36m1\u001b[0m\u001b[0;34m]\u001b[0m\u001b[0;34m,\u001b[0m\u001b[0my_1\u001b[0m\u001b[0;34m)\u001b[0m\u001b[0;34m)\u001b[0m\u001b[0;34m,\u001b[0m \u001b[0;36m4\u001b[0m\u001b[0;34m)\u001b[0m\u001b[0;34m\u001b[0m\u001b[0;34m\u001b[0m\u001b[0m\n\u001b[0m\u001b[1;32m     15\u001b[0m     \u001b[0mprint\u001b[0m\u001b[0;34m(\u001b[0m\u001b[0;34mf'y_{i+1} = {y_next}'\u001b[0m\u001b[0;34m)\u001b[0m\u001b[0;34m\u001b[0m\u001b[0;34m\u001b[0m\u001b[0m\n\u001b[1;32m     16\u001b[0m     \u001b[0my1\u001b[0m\u001b[0;34m.\u001b[0m\u001b[0mappend\u001b[0m\u001b[0;34m(\u001b[0m\u001b[0my_next\u001b[0m\u001b[0;34m)\u001b[0m\u001b[0;34m\u001b[0m\u001b[0;34m\u001b[0m\u001b[0m\n",
      "\u001b[0;31mIndexError\u001b[0m: list index out of range"
     ]
    }
   ],
   "source": [
    "def f(x,y):\n",
    "    #print(f'{h1} * (0.02*{y} - 0.03*{x})', end = ' ') # chỉnh lại print\n",
    "    return x+y  # viết lại hàm\n",
    "\n",
    "x_s = [0,0.1,0.2,0.3,0.4] # sửa\n",
    "h1 = x_s[1] - x_s[0]\n",
    "y1 = [1]\n",
    "\n",
    "# khong sua\n",
    "for i in range(len(x_s)):\n",
    "    y_1 = round( y1[i] + h1*f(x_s[i],y1[i]),4)\n",
    "    print(f'y_not{i+1} = {y_1}')\n",
    "    \n",
    "    y_next = round( y1[i] + h1/2*(f(x_s[i],y1[i]) + f(x_s[i+1],y_1)), 4)\n",
    "    print(f'y_{i+1} = {y_next}')\n",
    "    y1.append(y_next)\n",
    "   \n",
    "    print('-------------------------')"
   ]
  },
  {
   "cell_type": "markdown",
   "metadata": {},
   "source": [
    "# Hệ Phương trình vi phân euler cải tiến"
   ]
  },
  {
   "cell_type": "code",
   "execution_count": 48,
   "metadata": {},
   "outputs": [
    {
     "name": "stdout",
     "output_type": "stream",
     "text": [
      "u_not1 = 0.5\n",
      "v_not1 = 1.0\n",
      "u1 = 0.5\n",
      "v1 = 0.9688\n",
      "-----------------------------------------------\n",
      "u_not2 = 0.9922\n",
      "v_not2 = 0.9063\n",
      "u2 = 0.9844\n",
      "v2 = 0.876\n",
      "-----------------------------------------------\n",
      "u_not3 = 1.4534\n",
      "v_not3 = 0.7549\n",
      "u3 = 1.4383\n",
      "v3 = 0.7275\n",
      "-----------------------------------------------\n",
      "u_not4 = 1.8702\n",
      "v_not4 = 0.5554\n",
      "u4 = 1.8487\n",
      "v4 = 0.5327\n",
      "-----------------------------------------------\n",
      "u_not5 = 2.2319\n",
      "v_not5 = 0.3205\n"
     ]
    },
    {
     "ename": "IndexError",
     "evalue": "list index out of range",
     "output_type": "error",
     "traceback": [
      "\u001b[0;31m---------------------------------------------------------------------------\u001b[0m",
      "\u001b[0;31mIndexError\u001b[0m                                Traceback (most recent call last)",
      "\u001b[0;32m<ipython-input-48-3645168b2a79>\u001b[0m in \u001b[0;36m<module>\u001b[0;34m\u001b[0m\n\u001b[1;32m     14\u001b[0m     \u001b[0mv_notk\u001b[0m \u001b[0;34m=\u001b[0m \u001b[0mround\u001b[0m\u001b[0;34m(\u001b[0m \u001b[0mv_xs\u001b[0m\u001b[0;34m[\u001b[0m\u001b[0mi\u001b[0m\u001b[0;34m]\u001b[0m \u001b[0;34m+\u001b[0m \u001b[0mf_v\u001b[0m\u001b[0;34m(\u001b[0m\u001b[0mx_xs\u001b[0m\u001b[0;34m[\u001b[0m\u001b[0mi\u001b[0m\u001b[0;34m]\u001b[0m\u001b[0;34m,\u001b[0m\u001b[0mu_xs\u001b[0m\u001b[0;34m[\u001b[0m\u001b[0mi\u001b[0m\u001b[0;34m]\u001b[0m\u001b[0;34m,\u001b[0m\u001b[0mv_xs\u001b[0m\u001b[0;34m[\u001b[0m\u001b[0mi\u001b[0m\u001b[0;34m]\u001b[0m\u001b[0;34m)\u001b[0m \u001b[0;34m*\u001b[0m \u001b[0mh\u001b[0m\u001b[0;34m,\u001b[0m \u001b[0;36m4\u001b[0m\u001b[0;34m)\u001b[0m\u001b[0;34m\u001b[0m\u001b[0;34m\u001b[0m\u001b[0m\n\u001b[1;32m     15\u001b[0m     \u001b[0mprint\u001b[0m\u001b[0;34m(\u001b[0m\u001b[0;34mf'v_not{i+1} = {v_notk}'\u001b[0m\u001b[0;34m)\u001b[0m\u001b[0;34m\u001b[0m\u001b[0;34m\u001b[0m\u001b[0m\n\u001b[0;32m---> 16\u001b[0;31m     \u001b[0mu_k\u001b[0m \u001b[0;34m=\u001b[0m \u001b[0mround\u001b[0m\u001b[0;34m(\u001b[0m \u001b[0mu_xs\u001b[0m\u001b[0;34m[\u001b[0m\u001b[0mi\u001b[0m\u001b[0;34m]\u001b[0m\u001b[0;34m+\u001b[0m \u001b[0;34m(\u001b[0m \u001b[0mf_u\u001b[0m\u001b[0;34m(\u001b[0m\u001b[0mx_xs\u001b[0m\u001b[0;34m[\u001b[0m\u001b[0mi\u001b[0m\u001b[0;34m]\u001b[0m\u001b[0;34m,\u001b[0m\u001b[0mu_xs\u001b[0m\u001b[0;34m[\u001b[0m\u001b[0mi\u001b[0m\u001b[0;34m]\u001b[0m\u001b[0;34m,\u001b[0m\u001b[0mv_xs\u001b[0m\u001b[0;34m[\u001b[0m\u001b[0mi\u001b[0m\u001b[0;34m]\u001b[0m\u001b[0;34m)\u001b[0m \u001b[0;34m+\u001b[0m \u001b[0mf_u\u001b[0m\u001b[0;34m(\u001b[0m\u001b[0mx_xs\u001b[0m\u001b[0;34m[\u001b[0m\u001b[0mi\u001b[0m\u001b[0;34m+\u001b[0m\u001b[0;36m1\u001b[0m\u001b[0;34m]\u001b[0m\u001b[0;34m,\u001b[0m\u001b[0mu_notk\u001b[0m\u001b[0;34m,\u001b[0m\u001b[0mv_notk\u001b[0m\u001b[0;34m)\u001b[0m \u001b[0;34m)\u001b[0m\u001b[0;34m*\u001b[0m\u001b[0mh\u001b[0m\u001b[0;34m/\u001b[0m\u001b[0;36m2\u001b[0m\u001b[0;34m,\u001b[0m \u001b[0;36m4\u001b[0m\u001b[0;34m)\u001b[0m\u001b[0;34m\u001b[0m\u001b[0;34m\u001b[0m\u001b[0m\n\u001b[0m\u001b[1;32m     17\u001b[0m     \u001b[0mprint\u001b[0m\u001b[0;34m(\u001b[0m\u001b[0;34mf'u{i+1} = {u_k}'\u001b[0m\u001b[0;34m)\u001b[0m\u001b[0;34m\u001b[0m\u001b[0;34m\u001b[0m\u001b[0m\n\u001b[1;32m     18\u001b[0m     \u001b[0mu_xs\u001b[0m\u001b[0;34m.\u001b[0m\u001b[0mappend\u001b[0m\u001b[0;34m(\u001b[0m\u001b[0mu_k\u001b[0m\u001b[0;34m)\u001b[0m\u001b[0;34m\u001b[0m\u001b[0;34m\u001b[0m\u001b[0m\n",
      "\u001b[0;31mIndexError\u001b[0m: list index out of range"
     ]
    }
   ],
   "source": [
    "def f_u(x=None,u=None,v=None):\n",
    "    return 1+v\n",
    "def f_v(x=None,u=None,v=None):\n",
    "    return -u+x\n",
    "u_xs = [0]\n",
    "v_xs = [1]\n",
    "x_xs = [0, 0.25,0.5,0.75,1]\n",
    "\n",
    "#khong sua\n",
    "h = x_xs[1] - x_xs[0]\n",
    "for i in range(len(x_xs)):\n",
    "    u_notk = round(u_xs[i] + f_u(x_xs[i],u_xs[i],v_xs[i]) * h, 4)\n",
    "    print(f'u_not{i+1} = {u_notk}')\n",
    "    v_notk = round( v_xs[i] + f_v(x_xs[i],u_xs[i],v_xs[i]) * h, 4)\n",
    "    print(f'v_not{i+1} = {v_notk}')\n",
    "    u_k = round( u_xs[i]+ ( f_u(x_xs[i],u_xs[i],v_xs[i]) + f_u(x_xs[i+1],u_notk,v_notk) )*h/2, 4)\n",
    "    print(f'u{i+1} = {u_k}')\n",
    "    u_xs.append(u_k)\n",
    "    v_k = round( v_xs[i]+ ( f_v(x_xs[i],u_xs[i],v_xs[i]) + f_v(x_xs[i+1],u_notk,v_notk) )*h/2, 4)\n",
    "    print(f'v{i+1} = {v_k}')\n",
    "    v_xs.append(v_k)\n",
    "    print('-----------------------------------------------')"
   ]
  },
  {
   "cell_type": "markdown",
   "metadata": {},
   "source": [
    "# Hệ phương trình vi phân hàm bậc 2"
   ]
  },
  {
   "cell_type": "code",
   "execution_count": 8,
   "metadata": {},
   "outputs": [
    {
     "name": "stdout",
     "output_type": "stream",
     "text": [
      "u_1 = 1\n",
      "v_1 = 3.5\n",
      "-----------------------------------------\n",
      "u_2 = 4.5\n",
      "v_2 = -0.25\n",
      "-----------------------------------------\n",
      "u_3 = 4.25\n",
      "v_3 = 5.375\n",
      "-----------------------------------------\n",
      "u_4 = 9.625\n",
      "v_4 = -3.0625\n",
      "-----------------------------------------\n"
     ]
    }
   ],
   "source": [
    "def f_u(x=None,u=None,v=None):\n",
    "    return v                #sửa\n",
    "def f_v(x=None,u=None,v=None): \n",
    "    return 5 - 2.5*v     #sửa\n",
    "\n",
    "u_xs = [0] #sửa\n",
    "v_xs = [1] #sửa\n",
    "x_xs = [0,1,2,3] #sửa\n",
    "\n",
    "#không sửa\n",
    "h = x_xs[1] - x_xs[0]\n",
    "for i in range(len(x_xs)):\n",
    "    u_k = round(u_xs[i] + f_u(x_xs[i],u_xs[i],v_xs[i]) * h, 4)\n",
    "    print(f'u_{i+1} = {u_k}')\n",
    "    u_xs.append(u_k)\n",
    "    v_k = round( v_xs[i] + f_v(x_xs[i],u_xs[i],v_xs[i]) * h, 4)\n",
    "    print(f'v_{i+1} = {v_k}')\n",
    "    v_xs.append(v_k)\n",
    "    print('-----------------------------------------')"
   ]
  },
  {
   "cell_type": "code",
   "execution_count": null,
   "metadata": {},
   "outputs": [],
   "source": []
  }
 ],
 "metadata": {
  "kernelspec": {
   "display_name": "Python 3",
   "language": "python",
   "name": "python3"
  },
  "language_info": {
   "codemirror_mode": {
    "name": "ipython",
    "version": 3
   },
   "file_extension": ".py",
   "mimetype": "text/x-python",
   "name": "python",
   "nbconvert_exporter": "python",
   "pygments_lexer": "ipython3",
   "version": "3.8.3"
  }
 },
 "nbformat": 4,
 "nbformat_minor": 4
}
